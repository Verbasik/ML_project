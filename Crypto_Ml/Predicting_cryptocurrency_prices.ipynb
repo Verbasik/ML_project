{
  "cells": [
    {
      "cell_type": "markdown",
      "metadata": {
        "id": "bE-038Y-RCNZ"
      },
      "source": [
        "# Предсказание цен криптовалют"
      ]
    },
    {
      "cell_type": "markdown",
      "metadata": {
        "id": "ukez-iN_wj95"
      },
      "source": [
        "### Этап 1: Разведочный анализ данных (EDA)\n",
        "\n",
        "#### Подключение библиотек"
      ]
    },
    {
      "cell_type": "code",
      "execution_count": null,
      "metadata": {
        "colab": {
          "base_uri": "https://localhost:8080/"
        },
        "id": "rN4w6kE8rNWR",
        "outputId": "4ba27757-df46-48ac-bb30-d529e04f47ae"
      },
      "outputs": [
        {
          "name": "stdout",
          "output_type": "stream",
          "text": [
            "Collecting scikeras\n",
            "  Downloading scikeras-0.12.0-py3-none-any.whl (27 kB)\n",
            "Requirement already satisfied: packaging>=0.21 in /usr/local/lib/python3.10/dist-packages (from scikeras) (23.2)\n",
            "Requirement already satisfied: scikit-learn>=1.0.0 in /usr/local/lib/python3.10/dist-packages (from scikeras) (1.2.2)\n",
            "Requirement already satisfied: numpy>=1.17.3 in /usr/local/lib/python3.10/dist-packages (from scikit-learn>=1.0.0->scikeras) (1.23.5)\n",
            "Requirement already satisfied: scipy>=1.3.2 in /usr/local/lib/python3.10/dist-packages (from scikit-learn>=1.0.0->scikeras) (1.11.3)\n",
            "Requirement already satisfied: joblib>=1.1.1 in /usr/local/lib/python3.10/dist-packages (from scikit-learn>=1.0.0->scikeras) (1.3.2)\n",
            "Requirement already satisfied: threadpoolctl>=2.0.0 in /usr/local/lib/python3.10/dist-packages (from scikit-learn>=1.0.0->scikeras) (3.2.0)\n",
            "Installing collected packages: scikeras\n",
            "Successfully installed scikeras-0.12.0\n"
          ]
        }
      ],
      "source": [
        "!pip install scikeras"
      ]
    },
    {
      "cell_type": "code",
      "execution_count": null,
      "metadata": {
        "id": "5ytOQw0zRCNc"
      },
      "outputs": [],
      "source": [
        "# Стандартные библиотеки Python\n",
        "import warnings  # Управление предупреждениями в коде\n",
        "import random    # Генерация случайных чисел\n",
        "import json\n",
        "\n",
        "# Библиотеки для работы с данными\n",
        "import pandas as pd  # Работа с табличными данными\n",
        "import numpy  as np  # Научные вычисления\n",
        "\n",
        "# Библиотеки для машинного обучения\n",
        "from sklearn.preprocessing   import MinMaxScaler                          # Масштабирование данных\n",
        "from sklearn.model_selection import RandomizedSearchCV, TimeSeriesSplit   # Поиск по сетке параметров\n",
        "from sklearn.base            import BaseEstimator, RegressorMixin         # Базовые классы для создания пользовательских оценщиков\n",
        "\n",
        "# Библиотеки для глубокого обучения\n",
        "from keras.models                import Sequential       # Базовый класс для создания нейронных сетей\n",
        "from keras.layers                import LSTM, Dense      # Слои LSTM и полносвязный\n",
        "from tensorflow.keras.optimizers import Adam             # Оптимизатор Adam\n",
        "from tensorflow.keras.callbacks  import EarlyStopping    # Ранняя остановка обучения\n",
        "from scikeras.wrappers           import KerasRegressor   # Обертка для интеграции Keras с scikit-learn\n",
        "\n",
        "import pickle\n",
        "from keras.models import load_model  # Используем keras.models.load_model для сохранения модели весов\n",
        "\n",
        "# Библиотеки для визуализации\n",
        "import matplotlib.pyplot as plt    # Визуализация данных\n",
        "import plotly.graph_objects as go  # Интерактивная визуализация\n",
        "\n",
        "# Дополнительные утилиты\n",
        "from functools import partial  # Функция для частичного применения функций\n",
        "\n",
        "# Инициализация генератора случайных чисел\n",
        "random_state = random.seed(42)"
      ]
    },
    {
      "cell_type": "code",
      "execution_count": null,
      "metadata": {
        "id": "14tIgv8hGzSv"
      },
      "outputs": [],
      "source": [
        "class CustomKerasRegressor(BaseEstimator, RegressorMixin):\n",
        "    \"\"\"\n",
        "    Класс CustomKerasRegressor для реализации регрессии на основе Keras модели с использованием LSTM слоев.\n",
        "\n",
        "    Параметры:\n",
        "    ----------\n",
        "    optimizer : str, опционально\n",
        "        Оптимизатор для компиляции Keras модели (по умолчанию 'adam').\n",
        "    units : int, опционально\n",
        "        Количество нейронов в LSTM слоях (по умолчанию 50).\n",
        "    epochs : int, опционально\n",
        "        Количество эпох для обучения (по умолчанию 10).\n",
        "    batch_size : int, опционально\n",
        "        Размер батча для обучения (по умолчанию 32).\n",
        "    activation : str, опционально\n",
        "        Функция активации для LSTM слоев (по умолчанию 'tanh').\n",
        "    \"\"\"\n",
        "    def __init__(self, batch_size=32, epochs=10, optimizer='adam', units=50, lstm_layers=[50], activation='tanh', input_dim=None, **kwargs):\n",
        "        super().__init__(**kwargs)\n",
        "        self.batch_size = batch_size\n",
        "        self.epochs = epochs\n",
        "        self.optimizer = optimizer\n",
        "        self.units = units\n",
        "        self.lstm_layers = lstm_layers\n",
        "        self.activation = activation\n",
        "        self.input_dim = input_dim\n",
        "\n",
        "    def __getstate__(self):\n",
        "\n",
        "        # Возвращаем атрибуты, которые нужно сериализовать\n",
        "        state = self.__dict__.copy()\n",
        "        state['model_'] = None  # Заменяем модель на None, чтобы не пытаться сериализовать Keras модель\n",
        "        return state\n",
        "\n",
        "    def __setstate__(self, state):\n",
        "\n",
        "        # Восстанавливаем атрибуты из состояния\n",
        "        self.__dict__.update(state)\n",
        "\n",
        "    def build_model(self, input_shape):\n",
        "        \"\"\"\n",
        "        Метод для создания и компиляции Keras модели.\n",
        "\n",
        "        Параметры:\n",
        "        ----------\n",
        "        input_shape : tuple\n",
        "            Размерность входных данных.\n",
        "\n",
        "        Возвращает:\n",
        "        ----------\n",
        "        model : Keras модель\n",
        "            Скомпилированная Keras модель.\n",
        "        \"\"\"\n",
        "        model = Sequential()\n",
        "\n",
        "        # Добавляем первый LSTM слой с указанием размерности входных данных\n",
        "        model.add(LSTM(units=self.lstm_layers[0], activation=self.activation, return_sequences=True if len(self.lstm_layers) > 1 else False, input_shape=input_shape))\n",
        "\n",
        "        # Цикл для добавления оставшихся LSTM слоев\n",
        "        for i, units in enumerate(self.lstm_layers[1:]):\n",
        "            model.add(LSTM(units=units, activation=self.activation, return_sequences=True if i < len(self.lstm_layers) - 2 else False))\n",
        "\n",
        "        model.add(Dense(units=25, activation=self.activation))\n",
        "        model.add(Dense(units=1))\n",
        "        model.compile(optimizer=self.optimizer, loss='mean_squared_error')  # В качестве метрики используется среднеквадратическая ошибка\n",
        "\n",
        "        return model\n",
        "\n",
        "    def fit(self, X, y, **kwargs):\n",
        "        \"\"\"\n",
        "        Метод для обучения модели.\n",
        "\n",
        "        Параметры:\n",
        "        ----------\n",
        "        X : array-like\n",
        "            Массив признаков.\n",
        "        y : array-like\n",
        "            Массив меток.\n",
        "\n",
        "        Возвращает:\n",
        "        ----------\n",
        "        self : объект\n",
        "            Текущий экземпляр класса.\n",
        "        \"\"\"\n",
        "        input_shape = (X.shape[1], 1)\n",
        "        self.model_ = self.build_model(input_shape)\n",
        "        wrapper = KerasRegressor(build_fn=lambda: self.model_, epochs=self.epochs, batch_size=self.batch_size)\n",
        "        wrapper.fit(X, y, **kwargs)\n",
        "        return self\n",
        "\n",
        "    def predict(self, X):\n",
        "        \"\"\"\n",
        "        Метод для предсказания.\n",
        "\n",
        "        Параметры:\n",
        "        ----------\n",
        "        X : array-like\n",
        "            Массив признаков.\n",
        "\n",
        "        Возвращает:\n",
        "        ----------\n",
        "        array-like\n",
        "            Массив предсказаний.\n",
        "        \"\"\"\n",
        "        return self.model_.predict(X)\n",
        "\n",
        "    def save_model(self, path):\n",
        "        \"\"\"\n",
        "        Метод для сохранения весов Keras модели в файл.\n",
        "\n",
        "        Параметры:\n",
        "        ----------\n",
        "        path : str\n",
        "            Путь к файлу, в котором будут сохранены веса модели.\n",
        "        \"\"\"\n",
        "        # Сохраняем веса модели, чтобы можно было восстановить её структуру при десериализации\n",
        "        self.model_.save_weights(path)\n",
        "\n",
        "    def load_model(self, path):\n",
        "        \"\"\"\n",
        "        Метод для создания нового экземпляра Keras модели и загрузки весов из файла.\n",
        "\n",
        "        Параметры:\n",
        "        ----------\n",
        "        path : str\n",
        "            Путь к файлу, из которого будут загружены веса модели.\n",
        "\n",
        "        Возвращает:\n",
        "        ----------\n",
        "        self : object\n",
        "            Текущий экземпляр класса с загруженными весами модели.\n",
        "        \"\"\"\n",
        "        input_shape = (self.input_dim, 1)  # Указываем размерность входных данных\n",
        "        self.model_ = self.build_model(input_shape)\n",
        "        self.model_.load_weights(path)\n",
        "        return self\n",
        "\n",
        "    def set_parameters(self, batch_size=32, epochs=10, optimizer='adam', units=50, lstm_layers=[50], activation='tanh'):\n",
        "        \"\"\"\n",
        "        Метод для установки параметров модели CustomKerasRegressor при загрузки модели из h5.\n",
        "\n",
        "        Параметры:\n",
        "        ----------\n",
        "        batch_size : int, опционально\n",
        "            Размер батча для обучения модели (по умолчанию 32).\n",
        "        epochs : int, опционально\n",
        "            Количество эпох для обучения модели (по умолчанию 10).\n",
        "        optimizer : str, опционально\n",
        "            Оптимизатор для компиляции модели (по умолчанию 'adam').\n",
        "        units : int, опционально\n",
        "            Количество нейронов в LSTM слоях модели (по умолчанию 50).\n",
        "        lstm_layers : list, опционально\n",
        "            Список, определяющий структуру LSTM слоев (по умолчанию [50]).\n",
        "        activation : str, опционально\n",
        "            Функция активации для LSTM слоев (по умолчанию 'tanh').\n",
        "\n",
        "        Возвращает:\n",
        "        ----------\n",
        "        None\n",
        "        \"\"\"\n",
        "        self.batch_size = batch_size\n",
        "        self.epochs = epochs\n",
        "        self.optimizer = optimizer\n",
        "        self.units = units\n",
        "        self.lstm_layers = lstm_layers\n",
        "        self.activation = activation\n",
        "\n",
        "def preprocess_dataframe(df: pd.DataFrame):\n",
        "    \"\"\"\n",
        "    Предобработка датафрейма: переименование столбцов, преобработка дат и преобразование числовых значений.\n",
        "\n",
        "    Параметры:\n",
        "        df (pd.DataFrame): Исходный датафрейм, который необходимо предобработать.\n",
        "\n",
        "    Возвращает:\n",
        "        pd.DataFrame: Предобработанный датафрейм.\n",
        "\n",
        "    Пример использования:\n",
        "        processed_df = preprocess_dataframe(raw_df)\n",
        "    \"\"\"\n",
        "\n",
        "    # Словарь для переименования столбцов\n",
        "    column_mapping = {\n",
        "        \"Дата\\xa0\": \"Date\",\n",
        "        \"Открытия\\xa0\": \"Open\",\n",
        "        \"Макс.\\xa0\": \"High\",\n",
        "        \"Мин.\\xa0\": \"Low\",\n",
        "        \"Закрытия\\xa0\": \"Close\",\n",
        "        \"Объём\\xa0\": \"Volume\",\n",
        "        \"Рыночная Капитализация\\xa0\": \"Market_Capitalization\"\n",
        "    }\n",
        "    df.rename(columns=column_mapping, inplace=True)\n",
        "\n",
        "    # Словарь для перевода русских названий месяцев в английские\n",
        "    month_translation = {\n",
        "        'янв': 'Jan',\n",
        "        'фев': 'Feb',\n",
        "        'мар': 'Mar',\n",
        "        'апр': 'Apr',\n",
        "        'май': 'May',\n",
        "        'июн': 'Jun',\n",
        "        'июл': 'Jul',\n",
        "        'авг': 'Aug',\n",
        "        'сен': 'Sep',\n",
        "        'окт': 'Oct',\n",
        "        'ноя': 'Nov',\n",
        "        'дек': 'Dec'\n",
        "    }\n",
        "\n",
        "    # Преобразование названий месяцев\n",
        "    for rus, eng in month_translation.items():\n",
        "        df['Date'] = df['Date'].str.replace(rus, eng)\n",
        "\n",
        "    # Преобразование столбца \"Date\" в datetime\n",
        "    df['Date'] = pd.to_datetime(df['Date'], format='%b %d, %Y')\n",
        "\n",
        "    # Преобразование остальных столбцов в числовой формат\n",
        "    numeric_columns = ['Open', 'High', 'Low', 'Close', 'Volume', 'Market_Capitalization']\n",
        "    for col in numeric_columns:\n",
        "        # Удаление символов доллара и запятых\n",
        "        df[col] = df[col].str.replace('$', '').str.replace(',', '')\n",
        "        # Преобразование в числовой формат (float)\n",
        "        df[col] = df[col].astype(float)\n",
        "\n",
        "def prepare_data(df: pd.DataFrame) -> tuple:\n",
        "    \"\"\"\n",
        "    Функция для подготовки данных для LSTM.\n",
        "\n",
        "    Алгоритм:\n",
        "    1. Сортирует DataFrame по дате в порядке убывания.\n",
        "    2. Отделяет значения \"Close\" и нормализует их.\n",
        "    3. Создает обучающую и тестовую выборки.\n",
        "\n",
        "    Параметры:\n",
        "    - df: DataFrame с историческими данными акций, содержащий колонки 'Date' и 'Close'.\n",
        "\n",
        "    Возвращает:\n",
        "    - X_train, y_train: обучающая выборка.\n",
        "    - X_test, y_test: тестовая выборка.\n",
        "    \"\"\"\n",
        "\n",
        "    # Преобразуем данные в тип 'дата'\n",
        "    df['Date'] = pd.to_datetime(df['Date'])\n",
        "\n",
        "    # Сначала отсортируем DataFrame по колонке Date от меньшего к большему\n",
        "    df = df.sort_values('Date', ascending=True)\n",
        "    df.set_index('Date', inplace=True)\n",
        "\n",
        "    # Отделите Close значение для обучения\n",
        "    dataset = df['Close'].values\n",
        "    dataset = dataset.reshape(-1, 1)\n",
        "\n",
        "    # Нормализация данных\n",
        "    scaler = MinMaxScaler(feature_range=(0,1))\n",
        "    scaled_data = scaler.fit_transform(dataset)\n",
        "\n",
        "    # Отделяем тестовую выборку (последние 90 строк)\n",
        "    test_data = scaled_data[-90:]\n",
        "    train_data = scaled_data[:-90]\n",
        "\n",
        "    X_train = []\n",
        "    y_train = []\n",
        "\n",
        "    for i in range(60, len(train_data)):\n",
        "        X_train.append(train_data[i-60:i, 0])\n",
        "        y_train.append(train_data[i, 0])\n",
        "\n",
        "    X_train, y_train = np.array(X_train), np.array(y_train)\n",
        "    X_train = np.reshape(X_train, (X_train.shape[0], X_train.shape[1], 1))\n",
        "\n",
        "    X_test = []\n",
        "    y_test = dataset[:90]\n",
        "    for i in range(60, len(test_data)):\n",
        "        X_test.append(test_data[i-60:i, 0])\n",
        "\n",
        "    X_test = np.array(X_test)\n",
        "    X_test = np.reshape(X_test, (X_test.shape[0], X_test.shape[1], 1))\n",
        "\n",
        "    return X_train, y_train, X_test, y_test, scaler\n",
        "\n",
        "def find_best_model(X_train, y_train, n_splits=5, n_iter=10):\n",
        "    \"\"\"\n",
        "    Функция для поиска лучшей Keras модели с использованием RandomizedSearchCV и TimeSeriesSplit.\n",
        "\n",
        "    Параметры:\n",
        "    ----------\n",
        "    X_train : array-like\n",
        "        Обучающий набор данных (признаки).\n",
        "    y_train : array-like\n",
        "        Обучающий набор данных (метки).\n",
        "    n_splits : int\n",
        "        Количество разбиений для TimeSeriesSplit.\n",
        "    n_iter : int\n",
        "        Количество итераций для RandomizedSearchCV.\n",
        "\n",
        "    Возвращает:\n",
        "    ----------\n",
        "    best_model : object\n",
        "        Лучшая обученная модель.\n",
        "    \"\"\"\n",
        "\n",
        "    # Параметры для RandomizedSearchCV\n",
        "    param_distributions = {\n",
        "        'epochs': [5],\n",
        "        'batch_size': [1],\n",
        "        'optimizer': ['adam', 'rmsprop', 'sgd', 'adagrad'],\n",
        "        'activation': ['tanh', 'relu', 'sigmoid', 'softmax'],\n",
        "        'units': [50],\n",
        "        'lstm_layers': [[6]]}\n",
        "\n",
        "    # Инициализация модели\n",
        "    model = CustomKerasRegressor()\n",
        "\n",
        "    # Параметры кросс-валидации\n",
        "    tscv = TimeSeriesSplit(n_splits=n_splits)\n",
        "\n",
        "    # Поиск по сетке параметров\n",
        "    random_search = RandomizedSearchCV(estimator=model, param_distributions=param_distributions,\n",
        "                                       n_iter=n_iter, cv=tscv, n_jobs=-1, random_state=42)\n",
        "\n",
        "    random_search_result = random_search.fit(X_train, y_train)\n",
        "\n",
        "    # Вывод лучших параметров и MSE\n",
        "    print(\"Лучшие параметры: {}\".format(random_search_result.best_params_))\n",
        "    print(\"Лучшее значение MSE: {}\".format(-random_search_result.best_score_))\n",
        "\n",
        "    # Возврат лучшей модели\n",
        "    return random_search_result.best_estimator_, random_search_result.best_params_, -random_search_result.best_score_\n",
        "\n",
        "def learning_pipeline(name, X_train, y_train, n_range=1):\n",
        "    \"\"\"\n",
        "    Обучает N моделей на тренировочных данных и сохраняет лучшую модель.\n",
        "\n",
        "    Параметры:\n",
        "    -----------\n",
        "    name : str\n",
        "        Имя, под которым будет сохранена лучшая модель.\n",
        "    X_train : array-like\n",
        "        Массив признаков для тренировочных данных.\n",
        "    y_train : array-like\n",
        "        Массив целевых переменных для тренировочных данных.\n",
        "    n_range : int, optional (по умолчанию = 1)\n",
        "        Количество моделей для обучения и сравнения.\n",
        "\n",
        "    Возвращаемые значения:\n",
        "    ---------------------\n",
        "    None\n",
        "        Функция не возвращает значения, но сохраняет лучшую модель на диск и выводит информацию о ней.\n",
        "    \"\"\"\n",
        "\n",
        "    # Инициализация переменных\n",
        "    best_mse = float('inf')\n",
        "    best_model = None\n",
        "    best_params = None\n",
        "\n",
        "    # Обучаем N моделей и ищем лучшую\n",
        "    for i in range(n_range):\n",
        "        model, params, mse = find_best_model(X_train, y_train)\n",
        "\n",
        "        if mse < best_mse:\n",
        "            best_mse = mse\n",
        "            best_model = model\n",
        "            best_params = params\n",
        "\n",
        "    # Сохраняем модель\n",
        "    best_model.save_model(f'/content/drive/MyDrive/model/model_{name}.h5')\n",
        "\n",
        "    # Сохраняем параметры лучшей модели в JSON-формате\n",
        "    with open(f'/content/drive/MyDrive/model/model_{name}_params.txt', 'w') as f:\n",
        "        json.dump(best_params, f)\n",
        "\n",
        "    # Выводим параметры лучшей модели\n",
        "    print('-------------------------------------------------------------------')\n",
        "    print(f'Best Model: {best_model}')\n",
        "    print(f'Best Parameters: {best_params}')\n",
        "    print(f'Best MSE: {best_mse}')\n",
        "    print('-------------------------------------------------------------------')\n",
        "\n",
        "def plot_interactive_time_series_predictions(df, predictions, title='Stock Price Prediction', xlabel='Date', ylabel='Stock Price USD ($)'):\n",
        "    \"\"\"\n",
        "    Визуализация предсказаний временного ряда с использованием интерактивного графика Plotly.\n",
        "\n",
        "    Параметры:\n",
        "        df (pd.DataFrame): Исходный датафрейм со всеми данными.\n",
        "        predictions (np.array): Массив с предсказанными значениями.\n",
        "        title (str): Заголовок графика. По умолчанию 'Stock Price Prediction'.\n",
        "        xlabel (str): Название оси X. По умолчанию 'Date'.\n",
        "        ylabel (str): Название оси Y. По умолчанию 'Stock Price USD ($)'.\n",
        "    \"\"\"\n",
        "\n",
        "    valid = df.tail(len(predictions)).copy()  # берем последние значения, соответствующие длине предсказаний\n",
        "    valid['Predictions'] = predictions\n",
        "\n",
        "    # Создаем интерактивный график\n",
        "    fig = go.Figure()\n",
        "\n",
        "    # Добавляем линии: настоящие значения и предсказанные\n",
        "    fig.add_trace(go.Scatter(x=valid.index, y=valid['Close'], mode='lines', name='Actual Value'))\n",
        "    fig.add_trace(go.Scatter(x=valid.index, y=valid['Predictions'], mode='lines', name='Predictions'))\n",
        "\n",
        "    # Устанавливаем заголовок графика и подписи осей\n",
        "    fig.update_layout(title=title, xaxis_title=xlabel, yaxis_title=ylabel)\n",
        "\n",
        "    fig.show()\n",
        "\n",
        "def predict_and_plot(model, last_60_days_data, scaler, future_days=30):\n",
        "    \"\"\"\n",
        "    Прогнозирует и визуализирует цену актива на заданное количество дней вперед, используя LSTM модель.\n",
        "\n",
        "    Параметры:\n",
        "    - model (Keras Model): Обученная LSTM модель для прогнозирования.\n",
        "    - last_60_days_data (ndarray): Массив данных за последние 60 дней, который будет использован для начального прогнозирования.\n",
        "    - scaler (MinMaxScaler): Объект для масштабирования данных.\n",
        "    - future_days (int, опционально): Количество дней для прогноза. По умолчанию равно 30.\n",
        "\n",
        "    Вывод:\n",
        "    Функция создает график, показывающий прогнозируемые значения на заданное количество дней вперед.\n",
        "    \"\"\"\n",
        "    # Инициализация списка для хранения прогнозов\n",
        "    predictions = []\n",
        "\n",
        "    # Данные для начального прогноза (последние 60 дней из тестового набора)\n",
        "    last_60_days = np.array(last_60_days_data)\n",
        "\n",
        "    # Процесс прогнозирования\n",
        "    for i in range(future_days):\n",
        "        # Прогнозирование следующего дня на основе последних 60 дней\n",
        "        pred = model.predict(last_60_days.reshape(1, -1, 1))\n",
        "\n",
        "        # Добавление прогноза в список\n",
        "        predictions.append(pred[0][0])\n",
        "\n",
        "        # Обновление last_60_days с учетом нового прогноза\n",
        "        last_60_days = np.roll(last_60_days, -1)\n",
        "        last_60_days[-1] = pred\n",
        "\n",
        "    # Обратное масштабирование прогнозов\n",
        "    predictions = scaler.inverse_transform(np.array(predictions).reshape(-1, 1))\n",
        "\n",
        "    # Визуализация прогноза\n",
        "    plt.plot(range(future_days), predictions)\n",
        "    plt.title('Solana Price Prediction for Next 30 Days')\n",
        "    plt.xlabel('Days')\n",
        "    plt.ylabel('Price')\n",
        "    plt.show()"
      ]
    },
    {
      "cell_type": "markdown",
      "metadata": {
        "id": "qzhmTF1ZqhSA"
      },
      "source": [
        "---\n",
        "# Solana\n",
        "#### Загрузка данных из файла"
      ]
    },
    {
      "cell_type": "code",
      "execution_count": null,
      "metadata": {
        "colab": {
          "base_uri": "https://localhost:8080/",
          "height": 206
        },
        "id": "j6xfrJyFRCNd",
        "outputId": "08f63a50-2de2-4f23-fcf0-a109198f9da9"
      },
      "outputs": [
        {
          "data": {
            "text/html": [
              "\n",
              "  <div id=\"df-b5c37efb-f2e7-4f89-b646-1186699b5b18\" class=\"colab-df-container\">\n",
              "    <div>\n",
              "<style scoped>\n",
              "    .dataframe tbody tr th:only-of-type {\n",
              "        vertical-align: middle;\n",
              "    }\n",
              "\n",
              "    .dataframe tbody tr th {\n",
              "        vertical-align: top;\n",
              "    }\n",
              "\n",
              "    .dataframe thead th {\n",
              "        text-align: right;\n",
              "    }\n",
              "</style>\n",
              "<table border=\"1\" class=\"dataframe\">\n",
              "  <thead>\n",
              "    <tr style=\"text-align: right;\">\n",
              "      <th></th>\n",
              "      <th>Дата</th>\n",
              "      <th>Открытия</th>\n",
              "      <th>Макс.</th>\n",
              "      <th>Мин.</th>\n",
              "      <th>Закрытия</th>\n",
              "      <th>Объём</th>\n",
              "      <th>Рыночная Капитализация</th>\n",
              "    </tr>\n",
              "  </thead>\n",
              "  <tbody>\n",
              "    <tr>\n",
              "      <th>0</th>\n",
              "      <td>окт 25, 2023</td>\n",
              "      <td>$31.82</td>\n",
              "      <td>$32.30</td>\n",
              "      <td>$28.97</td>\n",
              "      <td>$30.26</td>\n",
              "      <td>$1,328,792,708</td>\n",
              "      <td>$12,645,365,708</td>\n",
              "    </tr>\n",
              "    <tr>\n",
              "      <th>1</th>\n",
              "      <td>окт 24, 2023</td>\n",
              "      <td>$29.00</td>\n",
              "      <td>$32.17</td>\n",
              "      <td>$28.84</td>\n",
              "      <td>$31.64</td>\n",
              "      <td>$1,365,540,076</td>\n",
              "      <td>$13,189,526,723</td>\n",
              "    </tr>\n",
              "    <tr>\n",
              "      <th>2</th>\n",
              "      <td>окт 23, 2023</td>\n",
              "      <td>$29.35</td>\n",
              "      <td>$29.88</td>\n",
              "      <td>$28.28</td>\n",
              "      <td>$28.98</td>\n",
              "      <td>$606,434,466</td>\n",
              "      <td>$12,077,732,760</td>\n",
              "    </tr>\n",
              "    <tr>\n",
              "      <th>3</th>\n",
              "      <td>окт 22, 2023</td>\n",
              "      <td>$27.03</td>\n",
              "      <td>$29.99</td>\n",
              "      <td>$26.71</td>\n",
              "      <td>$29.37</td>\n",
              "      <td>$1,029,645,602</td>\n",
              "      <td>$12,239,000,223</td>\n",
              "    </tr>\n",
              "    <tr>\n",
              "      <th>4</th>\n",
              "      <td>окт 21, 2023</td>\n",
              "      <td>$24.95</td>\n",
              "      <td>$27.26</td>\n",
              "      <td>$24.84</td>\n",
              "      <td>$27.05</td>\n",
              "      <td>$825,548,645</td>\n",
              "      <td>$11,267,911,275</td>\n",
              "    </tr>\n",
              "  </tbody>\n",
              "</table>\n",
              "</div>\n",
              "    <div class=\"colab-df-buttons\">\n",
              "\n",
              "  <div class=\"colab-df-container\">\n",
              "    <button class=\"colab-df-convert\" onclick=\"convertToInteractive('df-b5c37efb-f2e7-4f89-b646-1186699b5b18')\"\n",
              "            title=\"Convert this dataframe to an interactive table.\"\n",
              "            style=\"display:none;\">\n",
              "\n",
              "  <svg xmlns=\"http://www.w3.org/2000/svg\" height=\"24px\" viewBox=\"0 -960 960 960\">\n",
              "    <path d=\"M120-120v-720h720v720H120Zm60-500h600v-160H180v160Zm220 220h160v-160H400v160Zm0 220h160v-160H400v160ZM180-400h160v-160H180v160Zm440 0h160v-160H620v160ZM180-180h160v-160H180v160Zm440 0h160v-160H620v160Z\"/>\n",
              "  </svg>\n",
              "    </button>\n",
              "\n",
              "  <style>\n",
              "    .colab-df-container {\n",
              "      display:flex;\n",
              "      gap: 12px;\n",
              "    }\n",
              "\n",
              "    .colab-df-convert {\n",
              "      background-color: #E8F0FE;\n",
              "      border: none;\n",
              "      border-radius: 50%;\n",
              "      cursor: pointer;\n",
              "      display: none;\n",
              "      fill: #1967D2;\n",
              "      height: 32px;\n",
              "      padding: 0 0 0 0;\n",
              "      width: 32px;\n",
              "    }\n",
              "\n",
              "    .colab-df-convert:hover {\n",
              "      background-color: #E2EBFA;\n",
              "      box-shadow: 0px 1px 2px rgba(60, 64, 67, 0.3), 0px 1px 3px 1px rgba(60, 64, 67, 0.15);\n",
              "      fill: #174EA6;\n",
              "    }\n",
              "\n",
              "    .colab-df-buttons div {\n",
              "      margin-bottom: 4px;\n",
              "    }\n",
              "\n",
              "    [theme=dark] .colab-df-convert {\n",
              "      background-color: #3B4455;\n",
              "      fill: #D2E3FC;\n",
              "    }\n",
              "\n",
              "    [theme=dark] .colab-df-convert:hover {\n",
              "      background-color: #434B5C;\n",
              "      box-shadow: 0px 1px 3px 1px rgba(0, 0, 0, 0.15);\n",
              "      filter: drop-shadow(0px 1px 2px rgba(0, 0, 0, 0.3));\n",
              "      fill: #FFFFFF;\n",
              "    }\n",
              "  </style>\n",
              "\n",
              "    <script>\n",
              "      const buttonEl =\n",
              "        document.querySelector('#df-b5c37efb-f2e7-4f89-b646-1186699b5b18 button.colab-df-convert');\n",
              "      buttonEl.style.display =\n",
              "        google.colab.kernel.accessAllowed ? 'block' : 'none';\n",
              "\n",
              "      async function convertToInteractive(key) {\n",
              "        const element = document.querySelector('#df-b5c37efb-f2e7-4f89-b646-1186699b5b18');\n",
              "        const dataTable =\n",
              "          await google.colab.kernel.invokeFunction('convertToInteractive',\n",
              "                                                    [key], {});\n",
              "        if (!dataTable) return;\n",
              "\n",
              "        const docLinkHtml = 'Like what you see? Visit the ' +\n",
              "          '<a target=\"_blank\" href=https://colab.research.google.com/notebooks/data_table.ipynb>data table notebook</a>'\n",
              "          + ' to learn more about interactive tables.';\n",
              "        element.innerHTML = '';\n",
              "        dataTable['output_type'] = 'display_data';\n",
              "        await google.colab.output.renderOutput(dataTable, element);\n",
              "        const docLink = document.createElement('div');\n",
              "        docLink.innerHTML = docLinkHtml;\n",
              "        element.appendChild(docLink);\n",
              "      }\n",
              "    </script>\n",
              "  </div>\n",
              "\n",
              "\n",
              "<div id=\"df-7d9e5cb8-f547-4d88-b403-c6f60d3971c4\">\n",
              "  <button class=\"colab-df-quickchart\" onclick=\"quickchart('df-7d9e5cb8-f547-4d88-b403-c6f60d3971c4')\"\n",
              "            title=\"Suggest charts.\"\n",
              "            style=\"display:none;\">\n",
              "\n",
              "<svg xmlns=\"http://www.w3.org/2000/svg\" height=\"24px\"viewBox=\"0 0 24 24\"\n",
              "     width=\"24px\">\n",
              "    <g>\n",
              "        <path d=\"M19 3H5c-1.1 0-2 .9-2 2v14c0 1.1.9 2 2 2h14c1.1 0 2-.9 2-2V5c0-1.1-.9-2-2-2zM9 17H7v-7h2v7zm4 0h-2V7h2v10zm4 0h-2v-4h2v4z\"/>\n",
              "    </g>\n",
              "</svg>\n",
              "  </button>\n",
              "\n",
              "<style>\n",
              "  .colab-df-quickchart {\n",
              "      --bg-color: #E8F0FE;\n",
              "      --fill-color: #1967D2;\n",
              "      --hover-bg-color: #E2EBFA;\n",
              "      --hover-fill-color: #174EA6;\n",
              "      --disabled-fill-color: #AAA;\n",
              "      --disabled-bg-color: #DDD;\n",
              "  }\n",
              "\n",
              "  [theme=dark] .colab-df-quickchart {\n",
              "      --bg-color: #3B4455;\n",
              "      --fill-color: #D2E3FC;\n",
              "      --hover-bg-color: #434B5C;\n",
              "      --hover-fill-color: #FFFFFF;\n",
              "      --disabled-bg-color: #3B4455;\n",
              "      --disabled-fill-color: #666;\n",
              "  }\n",
              "\n",
              "  .colab-df-quickchart {\n",
              "    background-color: var(--bg-color);\n",
              "    border: none;\n",
              "    border-radius: 50%;\n",
              "    cursor: pointer;\n",
              "    display: none;\n",
              "    fill: var(--fill-color);\n",
              "    height: 32px;\n",
              "    padding: 0;\n",
              "    width: 32px;\n",
              "  }\n",
              "\n",
              "  .colab-df-quickchart:hover {\n",
              "    background-color: var(--hover-bg-color);\n",
              "    box-shadow: 0 1px 2px rgba(60, 64, 67, 0.3), 0 1px 3px 1px rgba(60, 64, 67, 0.15);\n",
              "    fill: var(--button-hover-fill-color);\n",
              "  }\n",
              "\n",
              "  .colab-df-quickchart-complete:disabled,\n",
              "  .colab-df-quickchart-complete:disabled:hover {\n",
              "    background-color: var(--disabled-bg-color);\n",
              "    fill: var(--disabled-fill-color);\n",
              "    box-shadow: none;\n",
              "  }\n",
              "\n",
              "  .colab-df-spinner {\n",
              "    border: 2px solid var(--fill-color);\n",
              "    border-color: transparent;\n",
              "    border-bottom-color: var(--fill-color);\n",
              "    animation:\n",
              "      spin 1s steps(1) infinite;\n",
              "  }\n",
              "\n",
              "  @keyframes spin {\n",
              "    0% {\n",
              "      border-color: transparent;\n",
              "      border-bottom-color: var(--fill-color);\n",
              "      border-left-color: var(--fill-color);\n",
              "    }\n",
              "    20% {\n",
              "      border-color: transparent;\n",
              "      border-left-color: var(--fill-color);\n",
              "      border-top-color: var(--fill-color);\n",
              "    }\n",
              "    30% {\n",
              "      border-color: transparent;\n",
              "      border-left-color: var(--fill-color);\n",
              "      border-top-color: var(--fill-color);\n",
              "      border-right-color: var(--fill-color);\n",
              "    }\n",
              "    40% {\n",
              "      border-color: transparent;\n",
              "      border-right-color: var(--fill-color);\n",
              "      border-top-color: var(--fill-color);\n",
              "    }\n",
              "    60% {\n",
              "      border-color: transparent;\n",
              "      border-right-color: var(--fill-color);\n",
              "    }\n",
              "    80% {\n",
              "      border-color: transparent;\n",
              "      border-right-color: var(--fill-color);\n",
              "      border-bottom-color: var(--fill-color);\n",
              "    }\n",
              "    90% {\n",
              "      border-color: transparent;\n",
              "      border-bottom-color: var(--fill-color);\n",
              "    }\n",
              "  }\n",
              "</style>\n",
              "\n",
              "  <script>\n",
              "    async function quickchart(key) {\n",
              "      const quickchartButtonEl =\n",
              "        document.querySelector('#' + key + ' button');\n",
              "      quickchartButtonEl.disabled = true;  // To prevent multiple clicks.\n",
              "      quickchartButtonEl.classList.add('colab-df-spinner');\n",
              "      try {\n",
              "        const charts = await google.colab.kernel.invokeFunction(\n",
              "            'suggestCharts', [key], {});\n",
              "      } catch (error) {\n",
              "        console.error('Error during call to suggestCharts:', error);\n",
              "      }\n",
              "      quickchartButtonEl.classList.remove('colab-df-spinner');\n",
              "      quickchartButtonEl.classList.add('colab-df-quickchart-complete');\n",
              "    }\n",
              "    (() => {\n",
              "      let quickchartButtonEl =\n",
              "        document.querySelector('#df-7d9e5cb8-f547-4d88-b403-c6f60d3971c4 button');\n",
              "      quickchartButtonEl.style.display =\n",
              "        google.colab.kernel.accessAllowed ? 'block' : 'none';\n",
              "    })();\n",
              "  </script>\n",
              "</div>\n",
              "    </div>\n",
              "  </div>\n"
            ],
            "text/plain": [
              "          Дата  Открытия   Макс.    Мин.  Закрытия           Объём   \\\n",
              "0  окт 25, 2023    $31.82  $32.30  $28.97    $30.26  $1,328,792,708   \n",
              "1  окт 24, 2023    $29.00  $32.17  $28.84    $31.64  $1,365,540,076   \n",
              "2  окт 23, 2023    $29.35  $29.88  $28.28    $28.98    $606,434,466   \n",
              "3  окт 22, 2023    $27.03  $29.99  $26.71    $29.37  $1,029,645,602   \n",
              "4  окт 21, 2023    $24.95  $27.26  $24.84    $27.05    $825,548,645   \n",
              "\n",
              "  Рыночная Капитализация   \n",
              "0         $12,645,365,708  \n",
              "1         $13,189,526,723  \n",
              "2         $12,077,732,760  \n",
              "3         $12,239,000,223  \n",
              "4         $11,267,911,275  "
            ]
          },
          "execution_count": 62,
          "metadata": {},
          "output_type": "execute_result"
        }
      ],
      "source": [
        "Solana = pd.read_excel('/content/Solana.xlsx')\n",
        "Solana.head()"
      ]
    },
    {
      "cell_type": "markdown",
      "metadata": {
        "id": "IGEoidGa1c7n"
      },
      "source": [
        "#### Первичный осмотр и предобработка данных"
      ]
    },
    {
      "cell_type": "code",
      "execution_count": null,
      "metadata": {
        "colab": {
          "base_uri": "https://localhost:8080/",
          "height": 275
        },
        "id": "5WJ1W_ufmu5o",
        "outputId": "b8848c2f-e8f9-4293-ced0-e8aba8bc123a"
      },
      "outputs": [
        {
          "name": "stderr",
          "output_type": "stream",
          "text": [
            "<ipython-input-55-cc0d4647b464>:221: FutureWarning:\n",
            "\n",
            "The default value of regex will change from True to False in a future version. In addition, single character regular expressions will *not* be treated as literal strings when regex=True.\n",
            "\n"
          ]
        },
        {
          "data": {
            "text/html": [
              "\n",
              "  <div id=\"df-7f671a93-1a69-4085-b8b0-3d2530d9b081\" class=\"colab-df-container\">\n",
              "    <div>\n",
              "<style scoped>\n",
              "    .dataframe tbody tr th:only-of-type {\n",
              "        vertical-align: middle;\n",
              "    }\n",
              "\n",
              "    .dataframe tbody tr th {\n",
              "        vertical-align: top;\n",
              "    }\n",
              "\n",
              "    .dataframe thead th {\n",
              "        text-align: right;\n",
              "    }\n",
              "</style>\n",
              "<table border=\"1\" class=\"dataframe\">\n",
              "  <thead>\n",
              "    <tr style=\"text-align: right;\">\n",
              "      <th></th>\n",
              "      <th>Date</th>\n",
              "      <th>Open</th>\n",
              "      <th>High</th>\n",
              "      <th>Low</th>\n",
              "      <th>Close</th>\n",
              "      <th>Volume</th>\n",
              "      <th>Market_Capitalization</th>\n",
              "    </tr>\n",
              "  </thead>\n",
              "  <tbody>\n",
              "    <tr>\n",
              "      <th>0</th>\n",
              "      <td>2023-10-25</td>\n",
              "      <td>31.82</td>\n",
              "      <td>32.30</td>\n",
              "      <td>28.97</td>\n",
              "      <td>30.26</td>\n",
              "      <td>1.328793e+09</td>\n",
              "      <td>1.264537e+10</td>\n",
              "    </tr>\n",
              "    <tr>\n",
              "      <th>1</th>\n",
              "      <td>2023-10-24</td>\n",
              "      <td>29.00</td>\n",
              "      <td>32.17</td>\n",
              "      <td>28.84</td>\n",
              "      <td>31.64</td>\n",
              "      <td>1.365540e+09</td>\n",
              "      <td>1.318953e+10</td>\n",
              "    </tr>\n",
              "    <tr>\n",
              "      <th>2</th>\n",
              "      <td>2023-10-23</td>\n",
              "      <td>29.35</td>\n",
              "      <td>29.88</td>\n",
              "      <td>28.28</td>\n",
              "      <td>28.98</td>\n",
              "      <td>6.064345e+08</td>\n",
              "      <td>1.207773e+10</td>\n",
              "    </tr>\n",
              "    <tr>\n",
              "      <th>3</th>\n",
              "      <td>2023-10-22</td>\n",
              "      <td>27.03</td>\n",
              "      <td>29.99</td>\n",
              "      <td>26.71</td>\n",
              "      <td>29.37</td>\n",
              "      <td>1.029646e+09</td>\n",
              "      <td>1.223900e+10</td>\n",
              "    </tr>\n",
              "    <tr>\n",
              "      <th>4</th>\n",
              "      <td>2023-10-21</td>\n",
              "      <td>24.95</td>\n",
              "      <td>27.26</td>\n",
              "      <td>24.84</td>\n",
              "      <td>27.05</td>\n",
              "      <td>8.255486e+08</td>\n",
              "      <td>1.126791e+10</td>\n",
              "    </tr>\n",
              "  </tbody>\n",
              "</table>\n",
              "</div>\n",
              "    <div class=\"colab-df-buttons\">\n",
              "\n",
              "  <div class=\"colab-df-container\">\n",
              "    <button class=\"colab-df-convert\" onclick=\"convertToInteractive('df-7f671a93-1a69-4085-b8b0-3d2530d9b081')\"\n",
              "            title=\"Convert this dataframe to an interactive table.\"\n",
              "            style=\"display:none;\">\n",
              "\n",
              "  <svg xmlns=\"http://www.w3.org/2000/svg\" height=\"24px\" viewBox=\"0 -960 960 960\">\n",
              "    <path d=\"M120-120v-720h720v720H120Zm60-500h600v-160H180v160Zm220 220h160v-160H400v160Zm0 220h160v-160H400v160ZM180-400h160v-160H180v160Zm440 0h160v-160H620v160ZM180-180h160v-160H180v160Zm440 0h160v-160H620v160Z\"/>\n",
              "  </svg>\n",
              "    </button>\n",
              "\n",
              "  <style>\n",
              "    .colab-df-container {\n",
              "      display:flex;\n",
              "      gap: 12px;\n",
              "    }\n",
              "\n",
              "    .colab-df-convert {\n",
              "      background-color: #E8F0FE;\n",
              "      border: none;\n",
              "      border-radius: 50%;\n",
              "      cursor: pointer;\n",
              "      display: none;\n",
              "      fill: #1967D2;\n",
              "      height: 32px;\n",
              "      padding: 0 0 0 0;\n",
              "      width: 32px;\n",
              "    }\n",
              "\n",
              "    .colab-df-convert:hover {\n",
              "      background-color: #E2EBFA;\n",
              "      box-shadow: 0px 1px 2px rgba(60, 64, 67, 0.3), 0px 1px 3px 1px rgba(60, 64, 67, 0.15);\n",
              "      fill: #174EA6;\n",
              "    }\n",
              "\n",
              "    .colab-df-buttons div {\n",
              "      margin-bottom: 4px;\n",
              "    }\n",
              "\n",
              "    [theme=dark] .colab-df-convert {\n",
              "      background-color: #3B4455;\n",
              "      fill: #D2E3FC;\n",
              "    }\n",
              "\n",
              "    [theme=dark] .colab-df-convert:hover {\n",
              "      background-color: #434B5C;\n",
              "      box-shadow: 0px 1px 3px 1px rgba(0, 0, 0, 0.15);\n",
              "      filter: drop-shadow(0px 1px 2px rgba(0, 0, 0, 0.3));\n",
              "      fill: #FFFFFF;\n",
              "    }\n",
              "  </style>\n",
              "\n",
              "    <script>\n",
              "      const buttonEl =\n",
              "        document.querySelector('#df-7f671a93-1a69-4085-b8b0-3d2530d9b081 button.colab-df-convert');\n",
              "      buttonEl.style.display =\n",
              "        google.colab.kernel.accessAllowed ? 'block' : 'none';\n",
              "\n",
              "      async function convertToInteractive(key) {\n",
              "        const element = document.querySelector('#df-7f671a93-1a69-4085-b8b0-3d2530d9b081');\n",
              "        const dataTable =\n",
              "          await google.colab.kernel.invokeFunction('convertToInteractive',\n",
              "                                                    [key], {});\n",
              "        if (!dataTable) return;\n",
              "\n",
              "        const docLinkHtml = 'Like what you see? Visit the ' +\n",
              "          '<a target=\"_blank\" href=https://colab.research.google.com/notebooks/data_table.ipynb>data table notebook</a>'\n",
              "          + ' to learn more about interactive tables.';\n",
              "        element.innerHTML = '';\n",
              "        dataTable['output_type'] = 'display_data';\n",
              "        await google.colab.output.renderOutput(dataTable, element);\n",
              "        const docLink = document.createElement('div');\n",
              "        docLink.innerHTML = docLinkHtml;\n",
              "        element.appendChild(docLink);\n",
              "      }\n",
              "    </script>\n",
              "  </div>\n",
              "\n",
              "\n",
              "<div id=\"df-00338b86-b97a-485f-b771-c73ff732467c\">\n",
              "  <button class=\"colab-df-quickchart\" onclick=\"quickchart('df-00338b86-b97a-485f-b771-c73ff732467c')\"\n",
              "            title=\"Suggest charts.\"\n",
              "            style=\"display:none;\">\n",
              "\n",
              "<svg xmlns=\"http://www.w3.org/2000/svg\" height=\"24px\"viewBox=\"0 0 24 24\"\n",
              "     width=\"24px\">\n",
              "    <g>\n",
              "        <path d=\"M19 3H5c-1.1 0-2 .9-2 2v14c0 1.1.9 2 2 2h14c1.1 0 2-.9 2-2V5c0-1.1-.9-2-2-2zM9 17H7v-7h2v7zm4 0h-2V7h2v10zm4 0h-2v-4h2v4z\"/>\n",
              "    </g>\n",
              "</svg>\n",
              "  </button>\n",
              "\n",
              "<style>\n",
              "  .colab-df-quickchart {\n",
              "      --bg-color: #E8F0FE;\n",
              "      --fill-color: #1967D2;\n",
              "      --hover-bg-color: #E2EBFA;\n",
              "      --hover-fill-color: #174EA6;\n",
              "      --disabled-fill-color: #AAA;\n",
              "      --disabled-bg-color: #DDD;\n",
              "  }\n",
              "\n",
              "  [theme=dark] .colab-df-quickchart {\n",
              "      --bg-color: #3B4455;\n",
              "      --fill-color: #D2E3FC;\n",
              "      --hover-bg-color: #434B5C;\n",
              "      --hover-fill-color: #FFFFFF;\n",
              "      --disabled-bg-color: #3B4455;\n",
              "      --disabled-fill-color: #666;\n",
              "  }\n",
              "\n",
              "  .colab-df-quickchart {\n",
              "    background-color: var(--bg-color);\n",
              "    border: none;\n",
              "    border-radius: 50%;\n",
              "    cursor: pointer;\n",
              "    display: none;\n",
              "    fill: var(--fill-color);\n",
              "    height: 32px;\n",
              "    padding: 0;\n",
              "    width: 32px;\n",
              "  }\n",
              "\n",
              "  .colab-df-quickchart:hover {\n",
              "    background-color: var(--hover-bg-color);\n",
              "    box-shadow: 0 1px 2px rgba(60, 64, 67, 0.3), 0 1px 3px 1px rgba(60, 64, 67, 0.15);\n",
              "    fill: var(--button-hover-fill-color);\n",
              "  }\n",
              "\n",
              "  .colab-df-quickchart-complete:disabled,\n",
              "  .colab-df-quickchart-complete:disabled:hover {\n",
              "    background-color: var(--disabled-bg-color);\n",
              "    fill: var(--disabled-fill-color);\n",
              "    box-shadow: none;\n",
              "  }\n",
              "\n",
              "  .colab-df-spinner {\n",
              "    border: 2px solid var(--fill-color);\n",
              "    border-color: transparent;\n",
              "    border-bottom-color: var(--fill-color);\n",
              "    animation:\n",
              "      spin 1s steps(1) infinite;\n",
              "  }\n",
              "\n",
              "  @keyframes spin {\n",
              "    0% {\n",
              "      border-color: transparent;\n",
              "      border-bottom-color: var(--fill-color);\n",
              "      border-left-color: var(--fill-color);\n",
              "    }\n",
              "    20% {\n",
              "      border-color: transparent;\n",
              "      border-left-color: var(--fill-color);\n",
              "      border-top-color: var(--fill-color);\n",
              "    }\n",
              "    30% {\n",
              "      border-color: transparent;\n",
              "      border-left-color: var(--fill-color);\n",
              "      border-top-color: var(--fill-color);\n",
              "      border-right-color: var(--fill-color);\n",
              "    }\n",
              "    40% {\n",
              "      border-color: transparent;\n",
              "      border-right-color: var(--fill-color);\n",
              "      border-top-color: var(--fill-color);\n",
              "    }\n",
              "    60% {\n",
              "      border-color: transparent;\n",
              "      border-right-color: var(--fill-color);\n",
              "    }\n",
              "    80% {\n",
              "      border-color: transparent;\n",
              "      border-right-color: var(--fill-color);\n",
              "      border-bottom-color: var(--fill-color);\n",
              "    }\n",
              "    90% {\n",
              "      border-color: transparent;\n",
              "      border-bottom-color: var(--fill-color);\n",
              "    }\n",
              "  }\n",
              "</style>\n",
              "\n",
              "  <script>\n",
              "    async function quickchart(key) {\n",
              "      const quickchartButtonEl =\n",
              "        document.querySelector('#' + key + ' button');\n",
              "      quickchartButtonEl.disabled = true;  // To prevent multiple clicks.\n",
              "      quickchartButtonEl.classList.add('colab-df-spinner');\n",
              "      try {\n",
              "        const charts = await google.colab.kernel.invokeFunction(\n",
              "            'suggestCharts', [key], {});\n",
              "      } catch (error) {\n",
              "        console.error('Error during call to suggestCharts:', error);\n",
              "      }\n",
              "      quickchartButtonEl.classList.remove('colab-df-spinner');\n",
              "      quickchartButtonEl.classList.add('colab-df-quickchart-complete');\n",
              "    }\n",
              "    (() => {\n",
              "      let quickchartButtonEl =\n",
              "        document.querySelector('#df-00338b86-b97a-485f-b771-c73ff732467c button');\n",
              "      quickchartButtonEl.style.display =\n",
              "        google.colab.kernel.accessAllowed ? 'block' : 'none';\n",
              "    })();\n",
              "  </script>\n",
              "</div>\n",
              "    </div>\n",
              "  </div>\n"
            ],
            "text/plain": [
              "        Date   Open   High    Low  Close        Volume  Market_Capitalization\n",
              "0 2023-10-25  31.82  32.30  28.97  30.26  1.328793e+09           1.264537e+10\n",
              "1 2023-10-24  29.00  32.17  28.84  31.64  1.365540e+09           1.318953e+10\n",
              "2 2023-10-23  29.35  29.88  28.28  28.98  6.064345e+08           1.207773e+10\n",
              "3 2023-10-22  27.03  29.99  26.71  29.37  1.029646e+09           1.223900e+10\n",
              "4 2023-10-21  24.95  27.26  24.84  27.05  8.255486e+08           1.126791e+10"
            ]
          },
          "execution_count": 63,
          "metadata": {},
          "output_type": "execute_result"
        }
      ],
      "source": [
        "preprocess_dataframe(Solana)\n",
        "Solana.head()"
      ]
    },
    {
      "cell_type": "markdown",
      "metadata": {
        "id": "a0ZZdDBd5JK1"
      },
      "source": [
        "---\n",
        "### Этап 2: Подготовим данные к обучению"
      ]
    },
    {
      "cell_type": "code",
      "execution_count": null,
      "metadata": {
        "id": "YnwubfvIHBxW"
      },
      "outputs": [],
      "source": [
        "X_train_Solana, y_train_Solana, X_test_Solana, y_test_Solana, scaler = prepare_data(Solana)"
      ]
    },
    {
      "cell_type": "markdown",
      "metadata": {
        "id": "f7TWq31hAwIt"
      },
      "source": [
        "### Этап 3: Обучение модели"
      ]
    },
    {
      "cell_type": "code",
      "execution_count": null,
      "metadata": {
        "colab": {
          "base_uri": "https://localhost:8080/"
        },
        "id": "1imHExhv-AjH",
        "outputId": "f92a435f-f152-4249-95e1-b64d3b08d414"
      },
      "outputs": [
        {
          "name": "stdout",
          "output_type": "stream",
          "text": [
            "Mounted at /content/drive\n"
          ]
        }
      ],
      "source": [
        "from google.colab import drive\n",
        "drive.mount('/content/drive')"
      ]
    },
    {
      "cell_type": "code",
      "execution_count": null,
      "metadata": {
        "colab": {
          "base_uri": "https://localhost:8080/"
        },
        "id": "H-avzpI3vQP3",
        "outputId": "945e593b-2d8e-4a42-b9e4-3ba36db5910b"
      },
      "outputs": [
        {
          "name": "stderr",
          "output_type": "stream",
          "text": [
            "/usr/local/lib/python3.10/dist-packages/joblib/externals/loky/process_executor.py:752: UserWarning:\n",
            "\n",
            "A worker stopped while some jobs were given to the executor. This can be caused by a too short worker timeout or by a memory leak.\n",
            "\n"
          ]
        },
        {
          "name": "stdout",
          "output_type": "stream",
          "text": [
            "Epoch 1/5\n"
          ]
        },
        {
          "name": "stderr",
          "output_type": "stream",
          "text": [
            "/usr/local/lib/python3.10/dist-packages/scikeras/wrappers.py:915: UserWarning:\n",
            "\n",
            "``build_fn`` will be renamed to ``model`` in a future release, at which point use of ``build_fn`` will raise an Error instead.\n",
            "\n"
          ]
        },
        {
          "name": "stdout",
          "output_type": "stream",
          "text": [
            "148/148 [==============================] - 4s 11ms/step - loss: 0.0166\n",
            "Epoch 2/5\n",
            "148/148 [==============================] - 2s 15ms/step - loss: 0.0058\n",
            "Epoch 3/5\n",
            "148/148 [==============================] - 3s 19ms/step - loss: 0.0047\n",
            "Epoch 4/5\n",
            "148/148 [==============================] - 2s 14ms/step - loss: 0.0042\n",
            "Epoch 5/5\n",
            "148/148 [==============================] - 2s 12ms/step - loss: 0.0038\n",
            "Лучшие параметры: {'units': 50, 'optimizer': 'rmsprop', 'lstm_layers': [6], 'epochs': 5, 'batch_size': 1, 'activation': 'tanh'}\n",
            "Лучшее значение MSE: 0.3874859911935981\n"
          ]
        },
        {
          "name": "stderr",
          "output_type": "stream",
          "text": [
            "/usr/local/lib/python3.10/dist-packages/joblib/externals/loky/process_executor.py:752: UserWarning:\n",
            "\n",
            "A worker stopped while some jobs were given to the executor. This can be caused by a too short worker timeout or by a memory leak.\n",
            "\n"
          ]
        },
        {
          "name": "stdout",
          "output_type": "stream",
          "text": [
            "Epoch 1/5\n"
          ]
        },
        {
          "name": "stderr",
          "output_type": "stream",
          "text": [
            "/usr/local/lib/python3.10/dist-packages/scikeras/wrappers.py:915: UserWarning:\n",
            "\n",
            "``build_fn`` will be renamed to ``model`` in a future release, at which point use of ``build_fn`` will raise an Error instead.\n",
            "\n"
          ]
        },
        {
          "name": "stdout",
          "output_type": "stream",
          "text": [
            "148/148 [==============================] - 4s 16ms/step - loss: 0.0229\n",
            "Epoch 2/5\n",
            "148/148 [==============================] - 3s 19ms/step - loss: 0.0098\n",
            "Epoch 3/5\n",
            "148/148 [==============================] - 2s 13ms/step - loss: 0.0077\n",
            "Epoch 4/5\n",
            "148/148 [==============================] - 2s 11ms/step - loss: 0.0062\n",
            "Epoch 5/5\n",
            "148/148 [==============================] - 2s 11ms/step - loss: 0.0051\n",
            "Лучшие параметры: {'units': 50, 'optimizer': 'rmsprop', 'lstm_layers': [6], 'epochs': 5, 'batch_size': 1, 'activation': 'tanh'}\n",
            "Лучшее значение MSE: 0.3716824384037921\n"
          ]
        },
        {
          "name": "stderr",
          "output_type": "stream",
          "text": [
            "/usr/local/lib/python3.10/dist-packages/joblib/externals/loky/process_executor.py:752: UserWarning:\n",
            "\n",
            "A worker stopped while some jobs were given to the executor. This can be caused by a too short worker timeout or by a memory leak.\n",
            "\n"
          ]
        },
        {
          "name": "stdout",
          "output_type": "stream",
          "text": [
            "Epoch 1/5\n"
          ]
        },
        {
          "name": "stderr",
          "output_type": "stream",
          "text": [
            "/usr/local/lib/python3.10/dist-packages/scikeras/wrappers.py:915: UserWarning:\n",
            "\n",
            "``build_fn`` will be renamed to ``model`` in a future release, at which point use of ``build_fn`` will raise an Error instead.\n",
            "\n"
          ]
        },
        {
          "name": "stdout",
          "output_type": "stream",
          "text": [
            "148/148 [==============================] - 4s 11ms/step - loss: 0.0113\n",
            "Epoch 2/5\n",
            "148/148 [==============================] - 2s 11ms/step - loss: 0.0054\n",
            "Epoch 3/5\n",
            "148/148 [==============================] - 2s 11ms/step - loss: 0.0048\n",
            "Epoch 4/5\n",
            "148/148 [==============================] - 2s 12ms/step - loss: 0.0042\n",
            "Epoch 5/5\n",
            "148/148 [==============================] - 3s 18ms/step - loss: 0.0039\n",
            "Лучшие параметры: {'units': 50, 'optimizer': 'adam', 'lstm_layers': [6], 'epochs': 5, 'batch_size': 1, 'activation': 'tanh'}\n",
            "Лучшее значение MSE: 0.24037773658952513\n"
          ]
        },
        {
          "name": "stderr",
          "output_type": "stream",
          "text": [
            "/usr/local/lib/python3.10/dist-packages/joblib/externals/loky/process_executor.py:752: UserWarning:\n",
            "\n",
            "A worker stopped while some jobs were given to the executor. This can be caused by a too short worker timeout or by a memory leak.\n",
            "\n"
          ]
        },
        {
          "name": "stdout",
          "output_type": "stream",
          "text": [
            "Epoch 1/5\n"
          ]
        },
        {
          "name": "stderr",
          "output_type": "stream",
          "text": [
            "/usr/local/lib/python3.10/dist-packages/scikeras/wrappers.py:915: UserWarning:\n",
            "\n",
            "``build_fn`` will be renamed to ``model`` in a future release, at which point use of ``build_fn`` will raise an Error instead.\n",
            "\n"
          ]
        },
        {
          "name": "stdout",
          "output_type": "stream",
          "text": [
            "148/148 [==============================] - 4s 11ms/step - loss: 0.0404\n",
            "Epoch 2/5\n",
            "148/148 [==============================] - 2s 11ms/step - loss: 0.0079\n",
            "Epoch 3/5\n",
            "148/148 [==============================] - 2s 11ms/step - loss: 0.0054\n",
            "Epoch 4/5\n",
            "148/148 [==============================] - 2s 11ms/step - loss: 0.0046\n",
            "Epoch 5/5\n",
            "148/148 [==============================] - 2s 11ms/step - loss: 0.0040\n",
            "Лучшие параметры: {'units': 50, 'optimizer': 'rmsprop', 'lstm_layers': [6], 'epochs': 5, 'batch_size': 1, 'activation': 'tanh'}\n",
            "Лучшее значение MSE: 0.6156997298421153\n"
          ]
        },
        {
          "name": "stderr",
          "output_type": "stream",
          "text": [
            "/usr/local/lib/python3.10/dist-packages/joblib/externals/loky/process_executor.py:752: UserWarning:\n",
            "\n",
            "A worker stopped while some jobs were given to the executor. This can be caused by a too short worker timeout or by a memory leak.\n",
            "\n"
          ]
        },
        {
          "name": "stdout",
          "output_type": "stream",
          "text": [
            "Epoch 1/5\n"
          ]
        },
        {
          "name": "stderr",
          "output_type": "stream",
          "text": [
            "/usr/local/lib/python3.10/dist-packages/scikeras/wrappers.py:915: UserWarning:\n",
            "\n",
            "``build_fn`` will be renamed to ``model`` in a future release, at which point use of ``build_fn`` will raise an Error instead.\n",
            "\n"
          ]
        },
        {
          "name": "stdout",
          "output_type": "stream",
          "text": [
            "148/148 [==============================] - 4s 12ms/step - loss: 0.0261\n",
            "Epoch 2/5\n",
            "148/148 [==============================] - 2s 12ms/step - loss: 0.0076\n",
            "Epoch 3/5\n",
            "148/148 [==============================] - 2s 11ms/step - loss: 0.0054\n",
            "Epoch 4/5\n",
            "148/148 [==============================] - 2s 11ms/step - loss: 0.0044\n",
            "Epoch 5/5\n",
            "148/148 [==============================] - 2s 11ms/step - loss: 0.0039\n",
            "Лучшие параметры: {'units': 50, 'optimizer': 'rmsprop', 'lstm_layers': [6], 'epochs': 5, 'batch_size': 1, 'activation': 'tanh'}\n",
            "Лучшее значение MSE: 0.8371949323435952\n"
          ]
        },
        {
          "name": "stderr",
          "output_type": "stream",
          "text": [
            "/usr/local/lib/python3.10/dist-packages/joblib/externals/loky/process_executor.py:752: UserWarning:\n",
            "\n",
            "A worker stopped while some jobs were given to the executor. This can be caused by a too short worker timeout or by a memory leak.\n",
            "\n"
          ]
        },
        {
          "name": "stdout",
          "output_type": "stream",
          "text": [
            "Epoch 1/5\n"
          ]
        },
        {
          "name": "stderr",
          "output_type": "stream",
          "text": [
            "/usr/local/lib/python3.10/dist-packages/scikeras/wrappers.py:915: UserWarning:\n",
            "\n",
            "``build_fn`` will be renamed to ``model`` in a future release, at which point use of ``build_fn`` will raise an Error instead.\n",
            "\n"
          ]
        },
        {
          "name": "stdout",
          "output_type": "stream",
          "text": [
            "148/148 [==============================] - 3s 11ms/step - loss: 0.0271\n",
            "Epoch 2/5\n",
            "148/148 [==============================] - 2s 11ms/step - loss: 0.0077\n",
            "Epoch 3/5\n",
            "148/148 [==============================] - 2s 11ms/step - loss: 0.0060\n",
            "Epoch 4/5\n",
            "148/148 [==============================] - 3s 17ms/step - loss: 0.0047\n",
            "Epoch 5/5\n",
            "148/148 [==============================] - 3s 18ms/step - loss: 0.0040\n",
            "Лучшие параметры: {'units': 50, 'optimizer': 'adam', 'lstm_layers': [6], 'epochs': 5, 'batch_size': 1, 'activation': 'tanh'}\n",
            "Лучшее значение MSE: 0.6973872669522453\n"
          ]
        },
        {
          "name": "stderr",
          "output_type": "stream",
          "text": [
            "/usr/local/lib/python3.10/dist-packages/joblib/externals/loky/process_executor.py:752: UserWarning:\n",
            "\n",
            "A worker stopped while some jobs were given to the executor. This can be caused by a too short worker timeout or by a memory leak.\n",
            "\n"
          ]
        },
        {
          "name": "stdout",
          "output_type": "stream",
          "text": [
            "Epoch 1/5\n"
          ]
        },
        {
          "name": "stderr",
          "output_type": "stream",
          "text": [
            "/usr/local/lib/python3.10/dist-packages/scikeras/wrappers.py:915: UserWarning:\n",
            "\n",
            "``build_fn`` will be renamed to ``model`` in a future release, at which point use of ``build_fn`` will raise an Error instead.\n",
            "\n"
          ]
        },
        {
          "name": "stdout",
          "output_type": "stream",
          "text": [
            "148/148 [==============================] - 3s 14ms/step - loss: 0.0867\n",
            "Epoch 2/5\n",
            "148/148 [==============================] - 3s 19ms/step - loss: 0.0061\n",
            "Epoch 3/5\n",
            "148/148 [==============================] - 2s 15ms/step - loss: 0.0047\n",
            "Epoch 4/5\n",
            "148/148 [==============================] - 2s 11ms/step - loss: 0.0043\n",
            "Epoch 5/5\n",
            "148/148 [==============================] - 2s 12ms/step - loss: 0.0039\n",
            "Лучшие параметры: {'units': 50, 'optimizer': 'rmsprop', 'lstm_layers': [6], 'epochs': 5, 'batch_size': 1, 'activation': 'relu'}\n",
            "Лучшее значение MSE: 0.22503281576021514\n"
          ]
        },
        {
          "name": "stderr",
          "output_type": "stream",
          "text": [
            "/usr/local/lib/python3.10/dist-packages/joblib/externals/loky/process_executor.py:752: UserWarning:\n",
            "\n",
            "A worker stopped while some jobs were given to the executor. This can be caused by a too short worker timeout or by a memory leak.\n",
            "\n"
          ]
        },
        {
          "name": "stdout",
          "output_type": "stream",
          "text": [
            "Epoch 1/5\n"
          ]
        },
        {
          "name": "stderr",
          "output_type": "stream",
          "text": [
            "/usr/local/lib/python3.10/dist-packages/scikeras/wrappers.py:915: UserWarning:\n",
            "\n",
            "``build_fn`` will be renamed to ``model`` in a future release, at which point use of ``build_fn`` will raise an Error instead.\n",
            "\n"
          ]
        },
        {
          "name": "stdout",
          "output_type": "stream",
          "text": [
            "148/148 [==============================] - 5s 17ms/step - loss: 0.0368\n",
            "Epoch 2/5\n",
            "148/148 [==============================] - 2s 12ms/step - loss: 0.0065\n",
            "Epoch 3/5\n",
            "148/148 [==============================] - 2s 12ms/step - loss: 0.0050\n",
            "Epoch 4/5\n",
            "148/148 [==============================] - 2s 12ms/step - loss: 0.0041\n",
            "Epoch 5/5\n",
            "148/148 [==============================] - 2s 12ms/step - loss: 0.0036\n",
            "Лучшие параметры: {'units': 50, 'optimizer': 'adam', 'lstm_layers': [6], 'epochs': 5, 'batch_size': 1, 'activation': 'tanh'}\n",
            "Лучшее значение MSE: 0.4580892881730839\n"
          ]
        },
        {
          "name": "stderr",
          "output_type": "stream",
          "text": [
            "/usr/local/lib/python3.10/dist-packages/joblib/externals/loky/process_executor.py:752: UserWarning:\n",
            "\n",
            "A worker stopped while some jobs were given to the executor. This can be caused by a too short worker timeout or by a memory leak.\n",
            "\n"
          ]
        },
        {
          "name": "stdout",
          "output_type": "stream",
          "text": [
            "Epoch 1/5\n"
          ]
        },
        {
          "name": "stderr",
          "output_type": "stream",
          "text": [
            "/usr/local/lib/python3.10/dist-packages/scikeras/wrappers.py:915: UserWarning:\n",
            "\n",
            "``build_fn`` will be renamed to ``model`` in a future release, at which point use of ``build_fn`` will raise an Error instead.\n",
            "\n"
          ]
        },
        {
          "name": "stdout",
          "output_type": "stream",
          "text": [
            "148/148 [==============================] - 4s 12ms/step - loss: 0.0715\n",
            "Epoch 2/5\n",
            "148/148 [==============================] - 2s 12ms/step - loss: 0.0093\n",
            "Epoch 3/5\n",
            "148/148 [==============================] - 2s 12ms/step - loss: 0.0076\n",
            "Epoch 4/5\n",
            "148/148 [==============================] - 2s 12ms/step - loss: 0.0057\n",
            "Epoch 5/5\n",
            "148/148 [==============================] - 3s 17ms/step - loss: 0.0054\n",
            "Лучшие параметры: {'units': 50, 'optimizer': 'adam', 'lstm_layers': [6], 'epochs': 5, 'batch_size': 1, 'activation': 'tanh'}\n",
            "Лучшее значение MSE: 1.054109496513658\n"
          ]
        },
        {
          "name": "stderr",
          "output_type": "stream",
          "text": [
            "/usr/local/lib/python3.10/dist-packages/joblib/externals/loky/process_executor.py:752: UserWarning:\n",
            "\n",
            "A worker stopped while some jobs were given to the executor. This can be caused by a too short worker timeout or by a memory leak.\n",
            "\n"
          ]
        },
        {
          "name": "stdout",
          "output_type": "stream",
          "text": [
            "Epoch 1/5\n"
          ]
        },
        {
          "name": "stderr",
          "output_type": "stream",
          "text": [
            "/usr/local/lib/python3.10/dist-packages/scikeras/wrappers.py:915: UserWarning:\n",
            "\n",
            "``build_fn`` will be renamed to ``model`` in a future release, at which point use of ``build_fn`` will raise an Error instead.\n",
            "\n"
          ]
        },
        {
          "name": "stdout",
          "output_type": "stream",
          "text": [
            "148/148 [==============================] - 3s 11ms/step - loss: 0.0442\n",
            "Epoch 2/5\n",
            "148/148 [==============================] - 2s 11ms/step - loss: 0.0099\n",
            "Epoch 3/5\n",
            "148/148 [==============================] - 2s 17ms/step - loss: 0.0072\n",
            "Epoch 4/5\n",
            "148/148 [==============================] - 3s 19ms/step - loss: 0.0053\n",
            "Epoch 5/5\n",
            "148/148 [==============================] - 2s 13ms/step - loss: 0.0045\n",
            "Лучшие параметры: {'units': 50, 'optimizer': 'rmsprop', 'lstm_layers': [6], 'epochs': 5, 'batch_size': 1, 'activation': 'tanh'}\n",
            "Лучшее значение MSE: 0.27011282400296144\n",
            "-------------------------------------------------------------------\n",
            "Best Model: CustomKerasRegressor(activation='relu', batch_size=1, epochs=5, lstm_layers=[6],\n",
            "                     optimizer='rmsprop')\n",
            "Best Parameters: {'units': 50, 'optimizer': 'rmsprop', 'lstm_layers': [6], 'epochs': 5, 'batch_size': 1, 'activation': 'relu'}\n",
            "Best MSE: 0.22503281576021514\n",
            "-------------------------------------------------------------------\n"
          ]
        }
      ],
      "source": [
        "learning_pipeline('Solana', X_train_Solana, y_train_Solana, n_range=10)"
      ]
    },
    {
      "cell_type": "markdown",
      "metadata": {
        "id": "VWpTVRmboi1C"
      },
      "source": [
        "### Загрузка модели"
      ]
    },
    {
      "cell_type": "code",
      "execution_count": null,
      "metadata": {
        "id": "S3bCeC_5G7YQ"
      },
      "outputs": [],
      "source": [
        "loaded_model = CustomKerasRegressor()\n",
        "loaded_model.set_parameters(units=50, optimizer='rmsprop', lstm_layers=[6], epochs=5, batch_size=1, activation='relu')\n",
        "model_Solana = loaded_model.load_model('/content/drive/MyDrive/model/model_Solana.h5')"
      ]
    },
    {
      "cell_type": "markdown",
      "metadata": {
        "id": "gFTXm9WcA79V"
      },
      "source": [
        "---\n",
        "### Этап 4: Отобразим результаты на графике"
      ]
    },
    {
      "cell_type": "code",
      "execution_count": null,
      "metadata": {
        "colab": {
          "base_uri": "https://localhost:8080/",
          "height": 559
        },
        "id": "ilUmU7QiH072",
        "outputId": "b3520224-52a8-4db2-cfb8-c958177d7762"
      },
      "outputs": [
        {
          "name": "stdout",
          "output_type": "stream",
          "text": [
            "1/1 [==============================] - 0s 318ms/step\n"
          ]
        },
        {
          "data": {
            "text/html": [
              "<html>\n",
              "<head><meta charset=\"utf-8\" /></head>\n",
              "<body>\n",
              "    <div>            <script src=\"https://cdnjs.cloudflare.com/ajax/libs/mathjax/2.7.5/MathJax.js?config=TeX-AMS-MML_SVG\"></script><script type=\"text/javascript\">if (window.MathJax && window.MathJax.Hub && window.MathJax.Hub.Config) {window.MathJax.Hub.Config({SVG: {font: \"STIX-Web\"}});}</script>                <script type=\"text/javascript\">window.PlotlyConfig = {MathJaxConfig: 'local'};</script>\n",
              "        <script charset=\"utf-8\" src=\"https://cdn.plot.ly/plotly-2.24.1.min.js\"></script>                <div id=\"92b714e0-6425-474e-bb4c-15bf1575830e\" class=\"plotly-graph-div\" style=\"height:525px; width:100%;\"></div>            <script type=\"text/javascript\">                                    window.PLOTLYENV=window.PLOTLYENV || {};                                    if (document.getElementById(\"92b714e0-6425-474e-bb4c-15bf1575830e\")) {                    Plotly.newPlot(                        \"92b714e0-6425-474e-bb4c-15bf1575830e\",                        [{\"mode\":\"lines\",\"name\":\"Actual Value\",\"x\":[\"2023-09-26T00:00:00\",\"2023-09-27T00:00:00\",\"2023-09-28T00:00:00\",\"2023-09-29T00:00:00\",\"2023-09-30T00:00:00\",\"2023-10-01T00:00:00\",\"2023-10-02T00:00:00\",\"2023-10-03T00:00:00\",\"2023-10-04T00:00:00\",\"2023-10-05T00:00:00\",\"2023-10-06T00:00:00\",\"2023-10-07T00:00:00\",\"2023-10-08T00:00:00\",\"2023-10-09T00:00:00\",\"2023-10-10T00:00:00\",\"2023-10-11T00:00:00\",\"2023-10-12T00:00:00\",\"2023-10-13T00:00:00\",\"2023-10-14T00:00:00\",\"2023-10-15T00:00:00\",\"2023-10-16T00:00:00\",\"2023-10-17T00:00:00\",\"2023-10-18T00:00:00\",\"2023-10-19T00:00:00\",\"2023-10-20T00:00:00\",\"2023-10-21T00:00:00\",\"2023-10-22T00:00:00\",\"2023-10-23T00:00:00\",\"2023-10-24T00:00:00\",\"2023-10-25T00:00:00\"],\"y\":[19.42,19.03,19.14,19.93,20.27,21.35,23.85,23.46,23.61,23.14,22.72,23.41,23.33,23.26,22.18,22.12,21.8,21.32,21.83,22.01,21.95,23.91,23.94,23.44,24.81,27.05,29.37,28.98,31.64,30.26],\"type\":\"scatter\"},{\"mode\":\"lines\",\"name\":\"Predictions\",\"x\":[\"2023-09-26T00:00:00\",\"2023-09-27T00:00:00\",\"2023-09-28T00:00:00\",\"2023-09-29T00:00:00\",\"2023-09-30T00:00:00\",\"2023-10-01T00:00:00\",\"2023-10-02T00:00:00\",\"2023-10-03T00:00:00\",\"2023-10-04T00:00:00\",\"2023-10-05T00:00:00\",\"2023-10-06T00:00:00\",\"2023-10-07T00:00:00\",\"2023-10-08T00:00:00\",\"2023-10-09T00:00:00\",\"2023-10-10T00:00:00\",\"2023-10-11T00:00:00\",\"2023-10-12T00:00:00\",\"2023-10-13T00:00:00\",\"2023-10-14T00:00:00\",\"2023-10-15T00:00:00\",\"2023-10-16T00:00:00\",\"2023-10-17T00:00:00\",\"2023-10-18T00:00:00\",\"2023-10-19T00:00:00\",\"2023-10-20T00:00:00\",\"2023-10-21T00:00:00\",\"2023-10-22T00:00:00\",\"2023-10-23T00:00:00\",\"2023-10-24T00:00:00\",\"2023-10-25T00:00:00\"],\"y\":[19.498992919921875,19.445993423461914,19.30413246154785,19.209760665893555,19.330997467041016,19.528350830078125,19.954893112182617,20.92718505859375,21.657663345336914,22.239290237426758,22.52573585510254,22.558263778686523,22.6689453125,22.69586944580078,22.64759063720703,22.285907745361328,21.912445068359375,21.506229400634766,21.054595947265625,20.840085983276367,20.75853157043457,20.71463966369629,21.21622085571289,21.6912784576416,21.947246551513672,22.47673225402832,23.474565505981445,24.936233520507812,26.069414138793945,27.363616943359375],\"type\":\"scatter\"}],                        {\"template\":{\"data\":{\"histogram2dcontour\":[{\"type\":\"histogram2dcontour\",\"colorbar\":{\"outlinewidth\":0,\"ticks\":\"\"},\"colorscale\":[[0.0,\"#0d0887\"],[0.1111111111111111,\"#46039f\"],[0.2222222222222222,\"#7201a8\"],[0.3333333333333333,\"#9c179e\"],[0.4444444444444444,\"#bd3786\"],[0.5555555555555556,\"#d8576b\"],[0.6666666666666666,\"#ed7953\"],[0.7777777777777778,\"#fb9f3a\"],[0.8888888888888888,\"#fdca26\"],[1.0,\"#f0f921\"]]}],\"choropleth\":[{\"type\":\"choropleth\",\"colorbar\":{\"outlinewidth\":0,\"ticks\":\"\"}}],\"histogram2d\":[{\"type\":\"histogram2d\",\"colorbar\":{\"outlinewidth\":0,\"ticks\":\"\"},\"colorscale\":[[0.0,\"#0d0887\"],[0.1111111111111111,\"#46039f\"],[0.2222222222222222,\"#7201a8\"],[0.3333333333333333,\"#9c179e\"],[0.4444444444444444,\"#bd3786\"],[0.5555555555555556,\"#d8576b\"],[0.6666666666666666,\"#ed7953\"],[0.7777777777777778,\"#fb9f3a\"],[0.8888888888888888,\"#fdca26\"],[1.0,\"#f0f921\"]]}],\"heatmap\":[{\"type\":\"heatmap\",\"colorbar\":{\"outlinewidth\":0,\"ticks\":\"\"},\"colorscale\":[[0.0,\"#0d0887\"],[0.1111111111111111,\"#46039f\"],[0.2222222222222222,\"#7201a8\"],[0.3333333333333333,\"#9c179e\"],[0.4444444444444444,\"#bd3786\"],[0.5555555555555556,\"#d8576b\"],[0.6666666666666666,\"#ed7953\"],[0.7777777777777778,\"#fb9f3a\"],[0.8888888888888888,\"#fdca26\"],[1.0,\"#f0f921\"]]}],\"heatmapgl\":[{\"type\":\"heatmapgl\",\"colorbar\":{\"outlinewidth\":0,\"ticks\":\"\"},\"colorscale\":[[0.0,\"#0d0887\"],[0.1111111111111111,\"#46039f\"],[0.2222222222222222,\"#7201a8\"],[0.3333333333333333,\"#9c179e\"],[0.4444444444444444,\"#bd3786\"],[0.5555555555555556,\"#d8576b\"],[0.6666666666666666,\"#ed7953\"],[0.7777777777777778,\"#fb9f3a\"],[0.8888888888888888,\"#fdca26\"],[1.0,\"#f0f921\"]]}],\"contourcarpet\":[{\"type\":\"contourcarpet\",\"colorbar\":{\"outlinewidth\":0,\"ticks\":\"\"}}],\"contour\":[{\"type\":\"contour\",\"colorbar\":{\"outlinewidth\":0,\"ticks\":\"\"},\"colorscale\":[[0.0,\"#0d0887\"],[0.1111111111111111,\"#46039f\"],[0.2222222222222222,\"#7201a8\"],[0.3333333333333333,\"#9c179e\"],[0.4444444444444444,\"#bd3786\"],[0.5555555555555556,\"#d8576b\"],[0.6666666666666666,\"#ed7953\"],[0.7777777777777778,\"#fb9f3a\"],[0.8888888888888888,\"#fdca26\"],[1.0,\"#f0f921\"]]}],\"surface\":[{\"type\":\"surface\",\"colorbar\":{\"outlinewidth\":0,\"ticks\":\"\"},\"colorscale\":[[0.0,\"#0d0887\"],[0.1111111111111111,\"#46039f\"],[0.2222222222222222,\"#7201a8\"],[0.3333333333333333,\"#9c179e\"],[0.4444444444444444,\"#bd3786\"],[0.5555555555555556,\"#d8576b\"],[0.6666666666666666,\"#ed7953\"],[0.7777777777777778,\"#fb9f3a\"],[0.8888888888888888,\"#fdca26\"],[1.0,\"#f0f921\"]]}],\"mesh3d\":[{\"type\":\"mesh3d\",\"colorbar\":{\"outlinewidth\":0,\"ticks\":\"\"}}],\"scatter\":[{\"fillpattern\":{\"fillmode\":\"overlay\",\"size\":10,\"solidity\":0.2},\"type\":\"scatter\"}],\"parcoords\":[{\"type\":\"parcoords\",\"line\":{\"colorbar\":{\"outlinewidth\":0,\"ticks\":\"\"}}}],\"scatterpolargl\":[{\"type\":\"scatterpolargl\",\"marker\":{\"colorbar\":{\"outlinewidth\":0,\"ticks\":\"\"}}}],\"bar\":[{\"error_x\":{\"color\":\"#2a3f5f\"},\"error_y\":{\"color\":\"#2a3f5f\"},\"marker\":{\"line\":{\"color\":\"#E5ECF6\",\"width\":0.5},\"pattern\":{\"fillmode\":\"overlay\",\"size\":10,\"solidity\":0.2}},\"type\":\"bar\"}],\"scattergeo\":[{\"type\":\"scattergeo\",\"marker\":{\"colorbar\":{\"outlinewidth\":0,\"ticks\":\"\"}}}],\"scatterpolar\":[{\"type\":\"scatterpolar\",\"marker\":{\"colorbar\":{\"outlinewidth\":0,\"ticks\":\"\"}}}],\"histogram\":[{\"marker\":{\"pattern\":{\"fillmode\":\"overlay\",\"size\":10,\"solidity\":0.2}},\"type\":\"histogram\"}],\"scattergl\":[{\"type\":\"scattergl\",\"marker\":{\"colorbar\":{\"outlinewidth\":0,\"ticks\":\"\"}}}],\"scatter3d\":[{\"type\":\"scatter3d\",\"line\":{\"colorbar\":{\"outlinewidth\":0,\"ticks\":\"\"}},\"marker\":{\"colorbar\":{\"outlinewidth\":0,\"ticks\":\"\"}}}],\"scattermapbox\":[{\"type\":\"scattermapbox\",\"marker\":{\"colorbar\":{\"outlinewidth\":0,\"ticks\":\"\"}}}],\"scatterternary\":[{\"type\":\"scatterternary\",\"marker\":{\"colorbar\":{\"outlinewidth\":0,\"ticks\":\"\"}}}],\"scattercarpet\":[{\"type\":\"scattercarpet\",\"marker\":{\"colorbar\":{\"outlinewidth\":0,\"ticks\":\"\"}}}],\"carpet\":[{\"aaxis\":{\"endlinecolor\":\"#2a3f5f\",\"gridcolor\":\"white\",\"linecolor\":\"white\",\"minorgridcolor\":\"white\",\"startlinecolor\":\"#2a3f5f\"},\"baxis\":{\"endlinecolor\":\"#2a3f5f\",\"gridcolor\":\"white\",\"linecolor\":\"white\",\"minorgridcolor\":\"white\",\"startlinecolor\":\"#2a3f5f\"},\"type\":\"carpet\"}],\"table\":[{\"cells\":{\"fill\":{\"color\":\"#EBF0F8\"},\"line\":{\"color\":\"white\"}},\"header\":{\"fill\":{\"color\":\"#C8D4E3\"},\"line\":{\"color\":\"white\"}},\"type\":\"table\"}],\"barpolar\":[{\"marker\":{\"line\":{\"color\":\"#E5ECF6\",\"width\":0.5},\"pattern\":{\"fillmode\":\"overlay\",\"size\":10,\"solidity\":0.2}},\"type\":\"barpolar\"}],\"pie\":[{\"automargin\":true,\"type\":\"pie\"}]},\"layout\":{\"autotypenumbers\":\"strict\",\"colorway\":[\"#636efa\",\"#EF553B\",\"#00cc96\",\"#ab63fa\",\"#FFA15A\",\"#19d3f3\",\"#FF6692\",\"#B6E880\",\"#FF97FF\",\"#FECB52\"],\"font\":{\"color\":\"#2a3f5f\"},\"hovermode\":\"closest\",\"hoverlabel\":{\"align\":\"left\"},\"paper_bgcolor\":\"white\",\"plot_bgcolor\":\"#E5ECF6\",\"polar\":{\"bgcolor\":\"#E5ECF6\",\"angularaxis\":{\"gridcolor\":\"white\",\"linecolor\":\"white\",\"ticks\":\"\"},\"radialaxis\":{\"gridcolor\":\"white\",\"linecolor\":\"white\",\"ticks\":\"\"}},\"ternary\":{\"bgcolor\":\"#E5ECF6\",\"aaxis\":{\"gridcolor\":\"white\",\"linecolor\":\"white\",\"ticks\":\"\"},\"baxis\":{\"gridcolor\":\"white\",\"linecolor\":\"white\",\"ticks\":\"\"},\"caxis\":{\"gridcolor\":\"white\",\"linecolor\":\"white\",\"ticks\":\"\"}},\"coloraxis\":{\"colorbar\":{\"outlinewidth\":0,\"ticks\":\"\"}},\"colorscale\":{\"sequential\":[[0.0,\"#0d0887\"],[0.1111111111111111,\"#46039f\"],[0.2222222222222222,\"#7201a8\"],[0.3333333333333333,\"#9c179e\"],[0.4444444444444444,\"#bd3786\"],[0.5555555555555556,\"#d8576b\"],[0.6666666666666666,\"#ed7953\"],[0.7777777777777778,\"#fb9f3a\"],[0.8888888888888888,\"#fdca26\"],[1.0,\"#f0f921\"]],\"sequentialminus\":[[0.0,\"#0d0887\"],[0.1111111111111111,\"#46039f\"],[0.2222222222222222,\"#7201a8\"],[0.3333333333333333,\"#9c179e\"],[0.4444444444444444,\"#bd3786\"],[0.5555555555555556,\"#d8576b\"],[0.6666666666666666,\"#ed7953\"],[0.7777777777777778,\"#fb9f3a\"],[0.8888888888888888,\"#fdca26\"],[1.0,\"#f0f921\"]],\"diverging\":[[0,\"#8e0152\"],[0.1,\"#c51b7d\"],[0.2,\"#de77ae\"],[0.3,\"#f1b6da\"],[0.4,\"#fde0ef\"],[0.5,\"#f7f7f7\"],[0.6,\"#e6f5d0\"],[0.7,\"#b8e186\"],[0.8,\"#7fbc41\"],[0.9,\"#4d9221\"],[1,\"#276419\"]]},\"xaxis\":{\"gridcolor\":\"white\",\"linecolor\":\"white\",\"ticks\":\"\",\"title\":{\"standoff\":15},\"zerolinecolor\":\"white\",\"automargin\":true,\"zerolinewidth\":2},\"yaxis\":{\"gridcolor\":\"white\",\"linecolor\":\"white\",\"ticks\":\"\",\"title\":{\"standoff\":15},\"zerolinecolor\":\"white\",\"automargin\":true,\"zerolinewidth\":2},\"scene\":{\"xaxis\":{\"backgroundcolor\":\"#E5ECF6\",\"gridcolor\":\"white\",\"linecolor\":\"white\",\"showbackground\":true,\"ticks\":\"\",\"zerolinecolor\":\"white\",\"gridwidth\":2},\"yaxis\":{\"backgroundcolor\":\"#E5ECF6\",\"gridcolor\":\"white\",\"linecolor\":\"white\",\"showbackground\":true,\"ticks\":\"\",\"zerolinecolor\":\"white\",\"gridwidth\":2},\"zaxis\":{\"backgroundcolor\":\"#E5ECF6\",\"gridcolor\":\"white\",\"linecolor\":\"white\",\"showbackground\":true,\"ticks\":\"\",\"zerolinecolor\":\"white\",\"gridwidth\":2}},\"shapedefaults\":{\"line\":{\"color\":\"#2a3f5f\"}},\"annotationdefaults\":{\"arrowcolor\":\"#2a3f5f\",\"arrowhead\":0,\"arrowwidth\":1},\"geo\":{\"bgcolor\":\"white\",\"landcolor\":\"#E5ECF6\",\"subunitcolor\":\"white\",\"showland\":true,\"showlakes\":true,\"lakecolor\":\"white\"},\"title\":{\"x\":0.05},\"mapbox\":{\"style\":\"light\"}}},\"title\":{\"text\":\"Stock Price Prediction\"},\"xaxis\":{\"title\":{\"text\":\"Date\"}},\"yaxis\":{\"title\":{\"text\":\"Stock Price USD ($)\"}}},                        {\"responsive\": true}                    ).then(function(){\n",
              "                            \n",
              "var gd = document.getElementById('92b714e0-6425-474e-bb4c-15bf1575830e');\n",
              "var x = new MutationObserver(function (mutations, observer) {{\n",
              "        var display = window.getComputedStyle(gd).display;\n",
              "        if (!display || display === 'none') {{\n",
              "            console.log([gd, 'removed!']);\n",
              "            Plotly.purge(gd);\n",
              "            observer.disconnect();\n",
              "        }}\n",
              "}});\n",
              "\n",
              "// Listen for the removal of the full notebook cells\n",
              "var notebookContainer = gd.closest('#notebook-container');\n",
              "if (notebookContainer) {{\n",
              "    x.observe(notebookContainer, {childList: true});\n",
              "}}\n",
              "\n",
              "// Listen for the clearing of the current output cell\n",
              "var outputEl = gd.closest('.output');\n",
              "if (outputEl) {{\n",
              "    x.observe(outputEl, {childList: true});\n",
              "}}\n",
              "\n",
              "                        })                };                            </script>        </div>\n",
              "</body>\n",
              "</html>"
            ]
          },
          "metadata": {},
          "output_type": "display_data"
        }
      ],
      "source": [
        "predictions_Solana = model_Solana.predict(X_test_Solana)\n",
        "predictions_Solana = scaler.inverse_transform(predictions_Solana)  # Дескалирование предсказаний обратно к исходным значениям\n",
        "\n",
        "df = Solana.sort_values('Date', ascending=True)\n",
        "df.set_index('Date', inplace=True)\n",
        "\n",
        "plot_interactive_time_series_predictions(df, predictions_Solana)"
      ]
    },
    {
      "cell_type": "code",
      "execution_count": null,
      "metadata": {
        "colab": {
          "base_uri": "https://localhost:8080/",
          "height": 993
        },
        "id": "D08agVo6lTp8",
        "outputId": "5103bf0e-ac26-4287-caca-7df2b6d3a437"
      },
      "outputs": [
        {
          "name": "stdout",
          "output_type": "stream",
          "text": [
            "1/1 [==============================] - 0s 108ms/step\n",
            "1/1 [==============================] - 0s 76ms/step\n",
            "1/1 [==============================] - 0s 212ms/step\n",
            "1/1 [==============================] - 0s 225ms/step\n",
            "1/1 [==============================] - 0s 124ms/step\n",
            "1/1 [==============================] - 0s 46ms/step\n",
            "1/1 [==============================] - 0s 36ms/step\n",
            "1/1 [==============================] - 0s 42ms/step\n",
            "1/1 [==============================] - 0s 43ms/step\n",
            "1/1 [==============================] - 0s 36ms/step\n",
            "1/1 [==============================] - 0s 45ms/step\n",
            "1/1 [==============================] - 0s 39ms/step\n",
            "1/1 [==============================] - 0s 43ms/step\n",
            "1/1 [==============================] - 0s 37ms/step\n",
            "1/1 [==============================] - 0s 37ms/step\n",
            "1/1 [==============================] - 0s 37ms/step\n",
            "1/1 [==============================] - 0s 43ms/step\n",
            "1/1 [==============================] - 0s 38ms/step\n",
            "1/1 [==============================] - 0s 39ms/step\n",
            "1/1 [==============================] - 0s 38ms/step\n",
            "1/1 [==============================] - 0s 39ms/step\n",
            "1/1 [==============================] - 0s 44ms/step\n",
            "1/1 [==============================] - 0s 35ms/step\n",
            "1/1 [==============================] - 0s 38ms/step\n",
            "1/1 [==============================] - 0s 38ms/step\n",
            "1/1 [==============================] - 0s 49ms/step\n",
            "1/1 [==============================] - 0s 40ms/step\n",
            "1/1 [==============================] - 0s 37ms/step\n",
            "1/1 [==============================] - 0s 36ms/step\n",
            "1/1 [==============================] - 0s 23ms/step\n"
          ]
        },
        {
          "data": {
            "image/png": "[encoded data removed]",
            "text/plain": [
              "<Figure size 640x480 with 1 Axes>"
            ]
          },
          "metadata": {},
          "output_type": "display_data"
        }
      ],
      "source": [
        "predict_and_plot(model_Solana, X_test_Solana[-1], scaler)"
      ]
    },
    {
      "cell_type": "markdown",
      "metadata": {
        "id": "h9LmErSMhFS1"
      },
      "source": [
        "---\n",
        "# Toncoin"
      ]
    },
    {
      "cell_type": "code",
      "execution_count": null,
      "metadata": {
        "colab": {
          "base_uri": "https://localhost:8080/",
          "height": 206
        },
        "id": "NNUJMFzQhGS9",
        "outputId": "72e4d462-156e-41d3-deda-9abb19401a62"
      },
      "outputs": [
        {
          "data": {
            "text/html": [
              "\n",
              "  <div id=\"df-4c30da1a-5307-4d59-8da4-10ce7d43e9f5\" class=\"colab-df-container\">\n",
              "    <div>\n",
              "<style scoped>\n",
              "    .dataframe tbody tr th:only-of-type {\n",
              "        vertical-align: middle;\n",
              "    }\n",
              "\n",
              "    .dataframe tbody tr th {\n",
              "        vertical-align: top;\n",
              "    }\n",
              "\n",
              "    .dataframe thead th {\n",
              "        text-align: right;\n",
              "    }\n",
              "</style>\n",
              "<table border=\"1\" class=\"dataframe\">\n",
              "  <thead>\n",
              "    <tr style=\"text-align: right;\">\n",
              "      <th></th>\n",
              "      <th>Дата</th>\n",
              "      <th>Открытия</th>\n",
              "      <th>Макс.</th>\n",
              "      <th>Мин.</th>\n",
              "      <th>Закрытия</th>\n",
              "      <th>Объём</th>\n",
              "      <th>Рыночная Капитализация</th>\n",
              "    </tr>\n",
              "  </thead>\n",
              "  <tbody>\n",
              "    <tr>\n",
              "      <th>0</th>\n",
              "      <td>окт 27, 2023</td>\n",
              "      <td>$2.12</td>\n",
              "      <td>$2.13</td>\n",
              "      <td>$2.03</td>\n",
              "      <td>$2.06</td>\n",
              "      <td>$17,044,760</td>\n",
              "      <td>$7,062,114,772</td>\n",
              "    </tr>\n",
              "    <tr>\n",
              "      <th>1</th>\n",
              "      <td>окт 26, 2023</td>\n",
              "      <td>$2.14</td>\n",
              "      <td>$2.18</td>\n",
              "      <td>$2.08</td>\n",
              "      <td>$2.12</td>\n",
              "      <td>$43,667,080</td>\n",
              "      <td>$7,291,307,011</td>\n",
              "    </tr>\n",
              "    <tr>\n",
              "      <th>2</th>\n",
              "      <td>окт 25, 2023</td>\n",
              "      <td>$2.13</td>\n",
              "      <td>$2.15</td>\n",
              "      <td>$2.12</td>\n",
              "      <td>$2.14</td>\n",
              "      <td>$41,637,235</td>\n",
              "      <td>$7,331,075,043</td>\n",
              "    </tr>\n",
              "    <tr>\n",
              "      <th>3</th>\n",
              "      <td>окт 24, 2023</td>\n",
              "      <td>$2.17</td>\n",
              "      <td>$2.25</td>\n",
              "      <td>$2.12</td>\n",
              "      <td>$2.13</td>\n",
              "      <td>$52,853,464</td>\n",
              "      <td>$7,308,082,010</td>\n",
              "    </tr>\n",
              "    <tr>\n",
              "      <th>4</th>\n",
              "      <td>окт 23, 2023</td>\n",
              "      <td>$2.19</td>\n",
              "      <td>$2.22</td>\n",
              "      <td>$2.13</td>\n",
              "      <td>$2.17</td>\n",
              "      <td>$48,873,140</td>\n",
              "      <td>$7,458,105,432</td>\n",
              "    </tr>\n",
              "  </tbody>\n",
              "</table>\n",
              "</div>\n",
              "    <div class=\"colab-df-buttons\">\n",
              "\n",
              "  <div class=\"colab-df-container\">\n",
              "    <button class=\"colab-df-convert\" onclick=\"convertToInteractive('df-4c30da1a-5307-4d59-8da4-10ce7d43e9f5')\"\n",
              "            title=\"Convert this dataframe to an interactive table.\"\n",
              "            style=\"display:none;\">\n",
              "\n",
              "  <svg xmlns=\"http://www.w3.org/2000/svg\" height=\"24px\" viewBox=\"0 -960 960 960\">\n",
              "    <path d=\"M120-120v-720h720v720H120Zm60-500h600v-160H180v160Zm220 220h160v-160H400v160Zm0 220h160v-160H400v160ZM180-400h160v-160H180v160Zm440 0h160v-160H620v160ZM180-180h160v-160H180v160Zm440 0h160v-160H620v160Z\"/>\n",
              "  </svg>\n",
              "    </button>\n",
              "\n",
              "  <style>\n",
              "    .colab-df-container {\n",
              "      display:flex;\n",
              "      gap: 12px;\n",
              "    }\n",
              "\n",
              "    .colab-df-convert {\n",
              "      background-color: #E8F0FE;\n",
              "      border: none;\n",
              "      border-radius: 50%;\n",
              "      cursor: pointer;\n",
              "      display: none;\n",
              "      fill: #1967D2;\n",
              "      height: 32px;\n",
              "      padding: 0 0 0 0;\n",
              "      width: 32px;\n",
              "    }\n",
              "\n",
              "    .colab-df-convert:hover {\n",
              "      background-color: #E2EBFA;\n",
              "      box-shadow: 0px 1px 2px rgba(60, 64, 67, 0.3), 0px 1px 3px 1px rgba(60, 64, 67, 0.15);\n",
              "      fill: #174EA6;\n",
              "    }\n",
              "\n",
              "    .colab-df-buttons div {\n",
              "      margin-bottom: 4px;\n",
              "    }\n",
              "\n",
              "    [theme=dark] .colab-df-convert {\n",
              "      background-color: #3B4455;\n",
              "      fill: #D2E3FC;\n",
              "    }\n",
              "\n",
              "    [theme=dark] .colab-df-convert:hover {\n",
              "      background-color: #434B5C;\n",
              "      box-shadow: 0px 1px 3px 1px rgba(0, 0, 0, 0.15);\n",
              "      filter: drop-shadow(0px 1px 2px rgba(0, 0, 0, 0.3));\n",
              "      fill: #FFFFFF;\n",
              "    }\n",
              "  </style>\n",
              "\n",
              "    <script>\n",
              "      const buttonEl =\n",
              "        document.querySelector('#df-4c30da1a-5307-4d59-8da4-10ce7d43e9f5 button.colab-df-convert');\n",
              "      buttonEl.style.display =\n",
              "        google.colab.kernel.accessAllowed ? 'block' : 'none';\n",
              "\n",
              "      async function convertToInteractive(key) {\n",
              "        const element = document.querySelector('#df-4c30da1a-5307-4d59-8da4-10ce7d43e9f5');\n",
              "        const dataTable =\n",
              "          await google.colab.kernel.invokeFunction('convertToInteractive',\n",
              "                                                    [key], {});\n",
              "        if (!dataTable) return;\n",
              "\n",
              "        const docLinkHtml = 'Like what you see? Visit the ' +\n",
              "          '<a target=\"_blank\" href=https://colab.research.google.com/notebooks/data_table.ipynb>data table notebook</a>'\n",
              "          + ' to learn more about interactive tables.';\n",
              "        element.innerHTML = '';\n",
              "        dataTable['output_type'] = 'display_data';\n",
              "        await google.colab.output.renderOutput(dataTable, element);\n",
              "        const docLink = document.createElement('div');\n",
              "        docLink.innerHTML = docLinkHtml;\n",
              "        element.appendChild(docLink);\n",
              "      }\n",
              "    </script>\n",
              "  </div>\n",
              "\n",
              "\n",
              "<div id=\"df-24cbb767-3be3-42dc-896b-34b092558160\">\n",
              "  <button class=\"colab-df-quickchart\" onclick=\"quickchart('df-24cbb767-3be3-42dc-896b-34b092558160')\"\n",
              "            title=\"Suggest charts.\"\n",
              "            style=\"display:none;\">\n",
              "\n",
              "<svg xmlns=\"http://www.w3.org/2000/svg\" height=\"24px\"viewBox=\"0 0 24 24\"\n",
              "     width=\"24px\">\n",
              "    <g>\n",
              "        <path d=\"M19 3H5c-1.1 0-2 .9-2 2v14c0 1.1.9 2 2 2h14c1.1 0 2-.9 2-2V5c0-1.1-.9-2-2-2zM9 17H7v-7h2v7zm4 0h-2V7h2v10zm4 0h-2v-4h2v4z\"/>\n",
              "    </g>\n",
              "</svg>\n",
              "  </button>\n",
              "\n",
              "<style>\n",
              "  .colab-df-quickchart {\n",
              "      --bg-color: #E8F0FE;\n",
              "      --fill-color: #1967D2;\n",
              "      --hover-bg-color: #E2EBFA;\n",
              "      --hover-fill-color: #174EA6;\n",
              "      --disabled-fill-color: #AAA;\n",
              "      --disabled-bg-color: #DDD;\n",
              "  }\n",
              "\n",
              "  [theme=dark] .colab-df-quickchart {\n",
              "      --bg-color: #3B4455;\n",
              "      --fill-color: #D2E3FC;\n",
              "      --hover-bg-color: #434B5C;\n",
              "      --hover-fill-color: #FFFFFF;\n",
              "      --disabled-bg-color: #3B4455;\n",
              "      --disabled-fill-color: #666;\n",
              "  }\n",
              "\n",
              "  .colab-df-quickchart {\n",
              "    background-color: var(--bg-color);\n",
              "    border: none;\n",
              "    border-radius: 50%;\n",
              "    cursor: pointer;\n",
              "    display: none;\n",
              "    fill: var(--fill-color);\n",
              "    height: 32px;\n",
              "    padding: 0;\n",
              "    width: 32px;\n",
              "  }\n",
              "\n",
              "  .colab-df-quickchart:hover {\n",
              "    background-color: var(--hover-bg-color);\n",
              "    box-shadow: 0 1px 2px rgba(60, 64, 67, 0.3), 0 1px 3px 1px rgba(60, 64, 67, 0.15);\n",
              "    fill: var(--button-hover-fill-color);\n",
              "  }\n",
              "\n",
              "  .colab-df-quickchart-complete:disabled,\n",
              "  .colab-df-quickchart-complete:disabled:hover {\n",
              "    background-color: var(--disabled-bg-color);\n",
              "    fill: var(--disabled-fill-color);\n",
              "    box-shadow: none;\n",
              "  }\n",
              "\n",
              "  .colab-df-spinner {\n",
              "    border: 2px solid var(--fill-color);\n",
              "    border-color: transparent;\n",
              "    border-bottom-color: var(--fill-color);\n",
              "    animation:\n",
              "      spin 1s steps(1) infinite;\n",
              "  }\n",
              "\n",
              "  @keyframes spin {\n",
              "    0% {\n",
              "      border-color: transparent;\n",
              "      border-bottom-color: var(--fill-color);\n",
              "      border-left-color: var(--fill-color);\n",
              "    }\n",
              "    20% {\n",
              "      border-color: transparent;\n",
              "      border-left-color: var(--fill-color);\n",
              "      border-top-color: var(--fill-color);\n",
              "    }\n",
              "    30% {\n",
              "      border-color: transparent;\n",
              "      border-left-color: var(--fill-color);\n",
              "      border-top-color: var(--fill-color);\n",
              "      border-right-color: var(--fill-color);\n",
              "    }\n",
              "    40% {\n",
              "      border-color: transparent;\n",
              "      border-right-color: var(--fill-color);\n",
              "      border-top-color: var(--fill-color);\n",
              "    }\n",
              "    60% {\n",
              "      border-color: transparent;\n",
              "      border-right-color: var(--fill-color);\n",
              "    }\n",
              "    80% {\n",
              "      border-color: transparent;\n",
              "      border-right-color: var(--fill-color);\n",
              "      border-bottom-color: var(--fill-color);\n",
              "    }\n",
              "    90% {\n",
              "      border-color: transparent;\n",
              "      border-bottom-color: var(--fill-color);\n",
              "    }\n",
              "  }\n",
              "</style>\n",
              "\n",
              "  <script>\n",
              "    async function quickchart(key) {\n",
              "      const quickchartButtonEl =\n",
              "        document.querySelector('#' + key + ' button');\n",
              "      quickchartButtonEl.disabled = true;  // To prevent multiple clicks.\n",
              "      quickchartButtonEl.classList.add('colab-df-spinner');\n",
              "      try {\n",
              "        const charts = await google.colab.kernel.invokeFunction(\n",
              "            'suggestCharts', [key], {});\n",
              "      } catch (error) {\n",
              "        console.error('Error during call to suggestCharts:', error);\n",
              "      }\n",
              "      quickchartButtonEl.classList.remove('colab-df-spinner');\n",
              "      quickchartButtonEl.classList.add('colab-df-quickchart-complete');\n",
              "    }\n",
              "    (() => {\n",
              "      let quickchartButtonEl =\n",
              "        document.querySelector('#df-24cbb767-3be3-42dc-896b-34b092558160 button');\n",
              "      quickchartButtonEl.style.display =\n",
              "        google.colab.kernel.accessAllowed ? 'block' : 'none';\n",
              "    })();\n",
              "  </script>\n",
              "</div>\n",
              "    </div>\n",
              "  </div>\n"
            ],
            "text/plain": [
              "          Дата  Открытия  Макс.   Мин.  Закрытия        Объём   \\\n",
              "0  окт 27, 2023     $2.12  $2.13  $2.03     $2.06  $17,044,760   \n",
              "1  окт 26, 2023     $2.14  $2.18  $2.08     $2.12  $43,667,080   \n",
              "2  окт 25, 2023     $2.13  $2.15  $2.12     $2.14  $41,637,235   \n",
              "3  окт 24, 2023     $2.17  $2.25  $2.12     $2.13  $52,853,464   \n",
              "4  окт 23, 2023     $2.19  $2.22  $2.13     $2.17  $48,873,140   \n",
              "\n",
              "  Рыночная Капитализация   \n",
              "0          $7,062,114,772  \n",
              "1          $7,291,307,011  \n",
              "2          $7,331,075,043  \n",
              "3          $7,308,082,010  \n",
              "4          $7,458,105,432  "
            ]
          },
          "execution_count": 7,
          "metadata": {},
          "output_type": "execute_result"
        }
      ],
      "source": [
        "Toncoin = pd.read_excel('/content/Toncoin.xlsx')\n",
        "Toncoin.head()"
      ]
    },
    {
      "cell_type": "code",
      "execution_count": null,
      "metadata": {
        "colab": {
          "base_uri": "https://localhost:8080/",
          "height": 241
        },
        "id": "zweDczAYkPVV",
        "outputId": "61639f1f-191b-44d2-c3c3-5d3da69e39c8"
      },
      "outputs": [
        {
          "name": "stderr",
          "output_type": "stream",
          "text": [
            "<ipython-input-5-36a048c51896>:221: FutureWarning: The default value of regex will change from True to False in a future version. In addition, single character regular expressions will *not* be treated as literal strings when regex=True.\n",
            "  df[col] = df[col].str.replace('$', '').str.replace(',', '')\n"
          ]
        },
        {
          "data": {
            "text/html": [
              "\n",
              "  <div id=\"df-fd71923c-5cd3-4cf5-bd26-308b1f05ff16\" class=\"colab-df-container\">\n",
              "    <div>\n",
              "<style scoped>\n",
              "    .dataframe tbody tr th:only-of-type {\n",
              "        vertical-align: middle;\n",
              "    }\n",
              "\n",
              "    .dataframe tbody tr th {\n",
              "        vertical-align: top;\n",
              "    }\n",
              "\n",
              "    .dataframe thead th {\n",
              "        text-align: right;\n",
              "    }\n",
              "</style>\n",
              "<table border=\"1\" class=\"dataframe\">\n",
              "  <thead>\n",
              "    <tr style=\"text-align: right;\">\n",
              "      <th></th>\n",
              "      <th>Date</th>\n",
              "      <th>Open</th>\n",
              "      <th>High</th>\n",
              "      <th>Low</th>\n",
              "      <th>Close</th>\n",
              "      <th>Volume</th>\n",
              "      <th>Market_Capitalization</th>\n",
              "    </tr>\n",
              "  </thead>\n",
              "  <tbody>\n",
              "    <tr>\n",
              "      <th>0</th>\n",
              "      <td>2023-10-27</td>\n",
              "      <td>2.12</td>\n",
              "      <td>2.13</td>\n",
              "      <td>2.03</td>\n",
              "      <td>2.06</td>\n",
              "      <td>17044760.0</td>\n",
              "      <td>7.062115e+09</td>\n",
              "    </tr>\n",
              "    <tr>\n",
              "      <th>1</th>\n",
              "      <td>2023-10-26</td>\n",
              "      <td>2.14</td>\n",
              "      <td>2.18</td>\n",
              "      <td>2.08</td>\n",
              "      <td>2.12</td>\n",
              "      <td>43667080.0</td>\n",
              "      <td>7.291307e+09</td>\n",
              "    </tr>\n",
              "    <tr>\n",
              "      <th>2</th>\n",
              "      <td>2023-10-25</td>\n",
              "      <td>2.13</td>\n",
              "      <td>2.15</td>\n",
              "      <td>2.12</td>\n",
              "      <td>2.14</td>\n",
              "      <td>41637235.0</td>\n",
              "      <td>7.331075e+09</td>\n",
              "    </tr>\n",
              "    <tr>\n",
              "      <th>3</th>\n",
              "      <td>2023-10-24</td>\n",
              "      <td>2.17</td>\n",
              "      <td>2.25</td>\n",
              "      <td>2.12</td>\n",
              "      <td>2.13</td>\n",
              "      <td>52853464.0</td>\n",
              "      <td>7.308082e+09</td>\n",
              "    </tr>\n",
              "    <tr>\n",
              "      <th>4</th>\n",
              "      <td>2023-10-23</td>\n",
              "      <td>2.19</td>\n",
              "      <td>2.22</td>\n",
              "      <td>2.13</td>\n",
              "      <td>2.17</td>\n",
              "      <td>48873140.0</td>\n",
              "      <td>7.458105e+09</td>\n",
              "    </tr>\n",
              "  </tbody>\n",
              "</table>\n",
              "</div>\n",
              "    <div class=\"colab-df-buttons\">\n",
              "\n",
              "  <div class=\"colab-df-container\">\n",
              "    <button class=\"colab-df-convert\" onclick=\"convertToInteractive('df-fd71923c-5cd3-4cf5-bd26-308b1f05ff16')\"\n",
              "            title=\"Convert this dataframe to an interactive table.\"\n",
              "            style=\"display:none;\">\n",
              "\n",
              "  <svg xmlns=\"http://www.w3.org/2000/svg\" height=\"24px\" viewBox=\"0 -960 960 960\">\n",
              "    <path d=\"M120-120v-720h720v720H120Zm60-500h600v-160H180v160Zm220 220h160v-160H400v160Zm0 220h160v-160H400v160ZM180-400h160v-160H180v160Zm440 0h160v-160H620v160ZM180-180h160v-160H180v160Zm440 0h160v-160H620v160Z\"/>\n",
              "  </svg>\n",
              "    </button>\n",
              "\n",
              "  <style>\n",
              "    .colab-df-container {\n",
              "      display:flex;\n",
              "      gap: 12px;\n",
              "    }\n",
              "\n",
              "    .colab-df-convert {\n",
              "      background-color: #E8F0FE;\n",
              "      border: none;\n",
              "      border-radius: 50%;\n",
              "      cursor: pointer;\n",
              "      display: none;\n",
              "      fill: #1967D2;\n",
              "      height: 32px;\n",
              "      padding: 0 0 0 0;\n",
              "      width: 32px;\n",
              "    }\n",
              "\n",
              "    .colab-df-convert:hover {\n",
              "      background-color: #E2EBFA;\n",
              "      box-shadow: 0px 1px 2px rgba(60, 64, 67, 0.3), 0px 1px 3px 1px rgba(60, 64, 67, 0.15);\n",
              "      fill: #174EA6;\n",
              "    }\n",
              "\n",
              "    .colab-df-buttons div {\n",
              "      margin-bottom: 4px;\n",
              "    }\n",
              "\n",
              "    [theme=dark] .colab-df-convert {\n",
              "      background-color: #3B4455;\n",
              "      fill: #D2E3FC;\n",
              "    }\n",
              "\n",
              "    [theme=dark] .colab-df-convert:hover {\n",
              "      background-color: #434B5C;\n",
              "      box-shadow: 0px 1px 3px 1px rgba(0, 0, 0, 0.15);\n",
              "      filter: drop-shadow(0px 1px 2px rgba(0, 0, 0, 0.3));\n",
              "      fill: #FFFFFF;\n",
              "    }\n",
              "  </style>\n",
              "\n",
              "    <script>\n",
              "      const buttonEl =\n",
              "        document.querySelector('#df-fd71923c-5cd3-4cf5-bd26-308b1f05ff16 button.colab-df-convert');\n",
              "      buttonEl.style.display =\n",
              "        google.colab.kernel.accessAllowed ? 'block' : 'none';\n",
              "\n",
              "      async function convertToInteractive(key) {\n",
              "        const element = document.querySelector('#df-fd71923c-5cd3-4cf5-bd26-308b1f05ff16');\n",
              "        const dataTable =\n",
              "          await google.colab.kernel.invokeFunction('convertToInteractive',\n",
              "                                                    [key], {});\n",
              "        if (!dataTable) return;\n",
              "\n",
              "        const docLinkHtml = 'Like what you see? Visit the ' +\n",
              "          '<a target=\"_blank\" href=https://colab.research.google.com/notebooks/data_table.ipynb>data table notebook</a>'\n",
              "          + ' to learn more about interactive tables.';\n",
              "        element.innerHTML = '';\n",
              "        dataTable['output_type'] = 'display_data';\n",
              "        await google.colab.output.renderOutput(dataTable, element);\n",
              "        const docLink = document.createElement('div');\n",
              "        docLink.innerHTML = docLinkHtml;\n",
              "        element.appendChild(docLink);\n",
              "      }\n",
              "    </script>\n",
              "  </div>\n",
              "\n",
              "\n",
              "<div id=\"df-4fcc94fa-d200-44fa-a7df-8005f195a85e\">\n",
              "  <button class=\"colab-df-quickchart\" onclick=\"quickchart('df-4fcc94fa-d200-44fa-a7df-8005f195a85e')\"\n",
              "            title=\"Suggest charts.\"\n",
              "            style=\"display:none;\">\n",
              "\n",
              "<svg xmlns=\"http://www.w3.org/2000/svg\" height=\"24px\"viewBox=\"0 0 24 24\"\n",
              "     width=\"24px\">\n",
              "    <g>\n",
              "        <path d=\"M19 3H5c-1.1 0-2 .9-2 2v14c0 1.1.9 2 2 2h14c1.1 0 2-.9 2-2V5c0-1.1-.9-2-2-2zM9 17H7v-7h2v7zm4 0h-2V7h2v10zm4 0h-2v-4h2v4z\"/>\n",
              "    </g>\n",
              "</svg>\n",
              "  </button>\n",
              "\n",
              "<style>\n",
              "  .colab-df-quickchart {\n",
              "      --bg-color: #E8F0FE;\n",
              "      --fill-color: #1967D2;\n",
              "      --hover-bg-color: #E2EBFA;\n",
              "      --hover-fill-color: #174EA6;\n",
              "      --disabled-fill-color: #AAA;\n",
              "      --disabled-bg-color: #DDD;\n",
              "  }\n",
              "\n",
              "  [theme=dark] .colab-df-quickchart {\n",
              "      --bg-color: #3B4455;\n",
              "      --fill-color: #D2E3FC;\n",
              "      --hover-bg-color: #434B5C;\n",
              "      --hover-fill-color: #FFFFFF;\n",
              "      --disabled-bg-color: #3B4455;\n",
              "      --disabled-fill-color: #666;\n",
              "  }\n",
              "\n",
              "  .colab-df-quickchart {\n",
              "    background-color: var(--bg-color);\n",
              "    border: none;\n",
              "    border-radius: 50%;\n",
              "    cursor: pointer;\n",
              "    display: none;\n",
              "    fill: var(--fill-color);\n",
              "    height: 32px;\n",
              "    padding: 0;\n",
              "    width: 32px;\n",
              "  }\n",
              "\n",
              "  .colab-df-quickchart:hover {\n",
              "    background-color: var(--hover-bg-color);\n",
              "    box-shadow: 0 1px 2px rgba(60, 64, 67, 0.3), 0 1px 3px 1px rgba(60, 64, 67, 0.15);\n",
              "    fill: var(--button-hover-fill-color);\n",
              "  }\n",
              "\n",
              "  .colab-df-quickchart-complete:disabled,\n",
              "  .colab-df-quickchart-complete:disabled:hover {\n",
              "    background-color: var(--disabled-bg-color);\n",
              "    fill: var(--disabled-fill-color);\n",
              "    box-shadow: none;\n",
              "  }\n",
              "\n",
              "  .colab-df-spinner {\n",
              "    border: 2px solid var(--fill-color);\n",
              "    border-color: transparent;\n",
              "    border-bottom-color: var(--fill-color);\n",
              "    animation:\n",
              "      spin 1s steps(1) infinite;\n",
              "  }\n",
              "\n",
              "  @keyframes spin {\n",
              "    0% {\n",
              "      border-color: transparent;\n",
              "      border-bottom-color: var(--fill-color);\n",
              "      border-left-color: var(--fill-color);\n",
              "    }\n",
              "    20% {\n",
              "      border-color: transparent;\n",
              "      border-left-color: var(--fill-color);\n",
              "      border-top-color: var(--fill-color);\n",
              "    }\n",
              "    30% {\n",
              "      border-color: transparent;\n",
              "      border-left-color: var(--fill-color);\n",
              "      border-top-color: var(--fill-color);\n",
              "      border-right-color: var(--fill-color);\n",
              "    }\n",
              "    40% {\n",
              "      border-color: transparent;\n",
              "      border-right-color: var(--fill-color);\n",
              "      border-top-color: var(--fill-color);\n",
              "    }\n",
              "    60% {\n",
              "      border-color: transparent;\n",
              "      border-right-color: var(--fill-color);\n",
              "    }\n",
              "    80% {\n",
              "      border-color: transparent;\n",
              "      border-right-color: var(--fill-color);\n",
              "      border-bottom-color: var(--fill-color);\n",
              "    }\n",
              "    90% {\n",
              "      border-color: transparent;\n",
              "      border-bottom-color: var(--fill-color);\n",
              "    }\n",
              "  }\n",
              "</style>\n",
              "\n",
              "  <script>\n",
              "    async function quickchart(key) {\n",
              "      const quickchartButtonEl =\n",
              "        document.querySelector('#' + key + ' button');\n",
              "      quickchartButtonEl.disabled = true;  // To prevent multiple clicks.\n",
              "      quickchartButtonEl.classList.add('colab-df-spinner');\n",
              "      try {\n",
              "        const charts = await google.colab.kernel.invokeFunction(\n",
              "            'suggestCharts', [key], {});\n",
              "      } catch (error) {\n",
              "        console.error('Error during call to suggestCharts:', error);\n",
              "      }\n",
              "      quickchartButtonEl.classList.remove('colab-df-spinner');\n",
              "      quickchartButtonEl.classList.add('colab-df-quickchart-complete');\n",
              "    }\n",
              "    (() => {\n",
              "      let quickchartButtonEl =\n",
              "        document.querySelector('#df-4fcc94fa-d200-44fa-a7df-8005f195a85e button');\n",
              "      quickchartButtonEl.style.display =\n",
              "        google.colab.kernel.accessAllowed ? 'block' : 'none';\n",
              "    })();\n",
              "  </script>\n",
              "</div>\n",
              "    </div>\n",
              "  </div>\n"
            ],
            "text/plain": [
              "        Date  Open  High   Low  Close      Volume  Market_Capitalization\n",
              "0 2023-10-27  2.12  2.13  2.03   2.06  17044760.0           7.062115e+09\n",
              "1 2023-10-26  2.14  2.18  2.08   2.12  43667080.0           7.291307e+09\n",
              "2 2023-10-25  2.13  2.15  2.12   2.14  41637235.0           7.331075e+09\n",
              "3 2023-10-24  2.17  2.25  2.12   2.13  52853464.0           7.308082e+09\n",
              "4 2023-10-23  2.19  2.22  2.13   2.17  48873140.0           7.458105e+09"
            ]
          },
          "execution_count": 8,
          "metadata": {},
          "output_type": "execute_result"
        }
      ],
      "source": [
        "preprocess_dataframe(Toncoin)\n",
        "Toncoin.head()"
      ]
    },
    {
      "cell_type": "code",
      "execution_count": null,
      "metadata": {
        "id": "463p3Q6llYc7"
      },
      "outputs": [],
      "source": [
        "X_train_Toncoin, y_train_Toncoin, X_test_Toncoin, y_test_Toncoin, scaler = prepare_data(Toncoin)"
      ]
    },
    {
      "cell_type": "code",
      "execution_count": null,
      "metadata": {
        "colab": {
          "base_uri": "https://localhost:8080/"
        },
        "id": "uGtfY5VkmZi-",
        "outputId": "830380b4-465b-4180-8283-7dc7d3bb9113"
      },
      "outputs": [
        {
          "name": "stdout",
          "output_type": "stream",
          "text": [
            "Mounted at /content/drive\n"
          ]
        }
      ],
      "source": [
        "from google.colab import drive\n",
        "drive.mount('/content/drive')"
      ]
    },
    {
      "cell_type": "code",
      "execution_count": null,
      "metadata": {
        "colab": {
          "base_uri": "https://localhost:8080/"
        },
        "id": "_asdlCKmmjR6",
        "outputId": "85a28ee3-c900-407d-a885-d8180867b203"
      },
      "outputs": [
        {
          "name": "stderr",
          "output_type": "stream",
          "text": [
            "/usr/local/lib/python3.10/dist-packages/joblib/externals/loky/process_executor.py:752: UserWarning: A worker stopped while some jobs were given to the executor. This can be caused by a too short worker timeout or by a memory leak.\n",
            "  warnings.warn(\n"
          ]
        },
        {
          "name": "stdout",
          "output_type": "stream",
          "text": [
            "Epoch 1/5\n"
          ]
        },
        {
          "name": "stderr",
          "output_type": "stream",
          "text": [
            "/usr/local/lib/python3.10/dist-packages/scikeras/wrappers.py:915: UserWarning: ``build_fn`` will be renamed to ``model`` in a future release, at which point use of ``build_fn`` will raise an Error instead.\n",
            "  X, y = self._initialize(X, y)\n"
          ]
        },
        {
          "name": "stdout",
          "output_type": "stream",
          "text": [
            "147/147 [==============================] - 4s 11ms/step - loss: 0.0197\n",
            "Epoch 2/5\n",
            "147/147 [==============================] - 2s 12ms/step - loss: 0.0039\n",
            "Epoch 3/5\n",
            "147/147 [==============================] - 2s 11ms/step - loss: 0.0036\n",
            "Epoch 4/5\n",
            "147/147 [==============================] - 2s 11ms/step - loss: 0.0036\n",
            "Epoch 5/5\n",
            "147/147 [==============================] - 2s 12ms/step - loss: 0.0035\n",
            "Лучшие параметры: {'units': 50, 'optimizer': 'rmsprop', 'lstm_layers': [6], 'epochs': 5, 'batch_size': 1, 'activation': 'tanh'}\n",
            "Лучшее значение MSE: 0.9374809476789299\n"
          ]
        },
        {
          "name": "stderr",
          "output_type": "stream",
          "text": [
            "/usr/local/lib/python3.10/dist-packages/joblib/externals/loky/process_executor.py:752: UserWarning: A worker stopped while some jobs were given to the executor. This can be caused by a too short worker timeout or by a memory leak.\n",
            "  warnings.warn(\n"
          ]
        },
        {
          "name": "stdout",
          "output_type": "stream",
          "text": [
            "Epoch 1/5\n"
          ]
        },
        {
          "name": "stderr",
          "output_type": "stream",
          "text": [
            "/usr/local/lib/python3.10/dist-packages/scikeras/wrappers.py:915: UserWarning: ``build_fn`` will be renamed to ``model`` in a future release, at which point use of ``build_fn`` will raise an Error instead.\n",
            "  X, y = self._initialize(X, y)\n"
          ]
        },
        {
          "name": "stdout",
          "output_type": "stream",
          "text": [
            "147/147 [==============================] - 3s 12ms/step - loss: 0.0462\n",
            "Epoch 2/5\n",
            "147/147 [==============================] - 2s 11ms/step - loss: 0.0064\n",
            "Epoch 3/5\n",
            "147/147 [==============================] - 2s 11ms/step - loss: 0.0045\n",
            "Epoch 4/5\n",
            "147/147 [==============================] - 2s 12ms/step - loss: 0.0041\n",
            "Epoch 5/5\n",
            "147/147 [==============================] - 3s 19ms/step - loss: 0.0034\n",
            "Лучшие параметры: {'units': 50, 'optimizer': 'rmsprop', 'lstm_layers': [6], 'epochs': 5, 'batch_size': 1, 'activation': 'tanh'}\n",
            "Лучшее значение MSE: 1.1419070421208573\n"
          ]
        },
        {
          "name": "stderr",
          "output_type": "stream",
          "text": [
            "/usr/local/lib/python3.10/dist-packages/joblib/externals/loky/process_executor.py:752: UserWarning: A worker stopped while some jobs were given to the executor. This can be caused by a too short worker timeout or by a memory leak.\n",
            "  warnings.warn(\n"
          ]
        },
        {
          "name": "stdout",
          "output_type": "stream",
          "text": [
            "Epoch 1/5\n"
          ]
        },
        {
          "name": "stderr",
          "output_type": "stream",
          "text": [
            "/usr/local/lib/python3.10/dist-packages/scikeras/wrappers.py:915: UserWarning: ``build_fn`` will be renamed to ``model`` in a future release, at which point use of ``build_fn`` will raise an Error instead.\n",
            "  X, y = self._initialize(X, y)\n"
          ]
        },
        {
          "name": "stdout",
          "output_type": "stream",
          "text": [
            "147/147 [==============================] - 4s 16ms/step - loss: 0.1382\n",
            "Epoch 2/5\n",
            "147/147 [==============================] - 2s 11ms/step - loss: 0.0118\n",
            "Epoch 3/5\n",
            "147/147 [==============================] - 2s 11ms/step - loss: 0.0055\n",
            "Epoch 4/5\n",
            "147/147 [==============================] - 2s 11ms/step - loss: 0.0045\n",
            "Epoch 5/5\n",
            "147/147 [==============================] - 2s 11ms/step - loss: 0.0049\n",
            "Лучшие параметры: {'units': 50, 'optimizer': 'rmsprop', 'lstm_layers': [6], 'epochs': 5, 'batch_size': 1, 'activation': 'relu'}\n",
            "Лучшее значение MSE: 1.5622369871315185\n"
          ]
        },
        {
          "name": "stderr",
          "output_type": "stream",
          "text": [
            "/usr/local/lib/python3.10/dist-packages/joblib/externals/loky/process_executor.py:752: UserWarning: A worker stopped while some jobs were given to the executor. This can be caused by a too short worker timeout or by a memory leak.\n",
            "  warnings.warn(\n"
          ]
        },
        {
          "name": "stdout",
          "output_type": "stream",
          "text": [
            "Epoch 1/5\n"
          ]
        },
        {
          "name": "stderr",
          "output_type": "stream",
          "text": [
            "/usr/local/lib/python3.10/dist-packages/scikeras/wrappers.py:915: UserWarning: ``build_fn`` will be renamed to ``model`` in a future release, at which point use of ``build_fn`` will raise an Error instead.\n",
            "  X, y = self._initialize(X, y)\n"
          ]
        },
        {
          "name": "stdout",
          "output_type": "stream",
          "text": [
            "147/147 [==============================] - 4s 12ms/step - loss: 0.1014\n",
            "Epoch 2/5\n",
            "147/147 [==============================] - 3s 18ms/step - loss: 0.0096\n",
            "Epoch 3/5\n",
            "147/147 [==============================] - 3s 18ms/step - loss: 0.0040\n",
            "Epoch 4/5\n",
            "147/147 [==============================] - 2s 11ms/step - loss: 0.0035\n",
            "Epoch 5/5\n",
            "147/147 [==============================] - 2s 12ms/step - loss: 0.0033\n",
            "Лучшие параметры: {'units': 50, 'optimizer': 'adam', 'lstm_layers': [6], 'epochs': 5, 'batch_size': 1, 'activation': 'tanh'}\n",
            "Лучшее значение MSE: 0.8335844635615901\n"
          ]
        },
        {
          "name": "stderr",
          "output_type": "stream",
          "text": [
            "/usr/local/lib/python3.10/dist-packages/joblib/externals/loky/process_executor.py:752: UserWarning: A worker stopped while some jobs were given to the executor. This can be caused by a too short worker timeout or by a memory leak.\n",
            "  warnings.warn(\n"
          ]
        },
        {
          "name": "stdout",
          "output_type": "stream",
          "text": [
            "Epoch 1/5\n"
          ]
        },
        {
          "name": "stderr",
          "output_type": "stream",
          "text": [
            "/usr/local/lib/python3.10/dist-packages/scikeras/wrappers.py:915: UserWarning: ``build_fn`` will be renamed to ``model`` in a future release, at which point use of ``build_fn`` will raise an Error instead.\n",
            "  X, y = self._initialize(X, y)\n"
          ]
        },
        {
          "name": "stdout",
          "output_type": "stream",
          "text": [
            "147/147 [==============================] - 3s 11ms/step - loss: 0.1295\n",
            "Epoch 2/5\n",
            "147/147 [==============================] - 2s 11ms/step - loss: 0.0188\n",
            "Epoch 3/5\n",
            "147/147 [==============================] - 2s 11ms/step - loss: 0.0048\n",
            "Epoch 4/5\n",
            "147/147 [==============================] - 2s 11ms/step - loss: 0.0042\n",
            "Epoch 5/5\n",
            "147/147 [==============================] - 2s 12ms/step - loss: 0.0037\n",
            "Лучшие параметры: {'units': 50, 'optimizer': 'rmsprop', 'lstm_layers': [6], 'epochs': 5, 'batch_size': 1, 'activation': 'relu'}\n",
            "Лучшее значение MSE: 0.6414566196595436\n"
          ]
        },
        {
          "name": "stderr",
          "output_type": "stream",
          "text": [
            "/usr/local/lib/python3.10/dist-packages/joblib/externals/loky/process_executor.py:752: UserWarning: A worker stopped while some jobs were given to the executor. This can be caused by a too short worker timeout or by a memory leak.\n",
            "  warnings.warn(\n"
          ]
        },
        {
          "name": "stdout",
          "output_type": "stream",
          "text": [
            "Epoch 1/5\n"
          ]
        },
        {
          "name": "stderr",
          "output_type": "stream",
          "text": [
            "/usr/local/lib/python3.10/dist-packages/scikeras/wrappers.py:915: UserWarning: ``build_fn`` will be renamed to ``model`` in a future release, at which point use of ``build_fn`` will raise an Error instead.\n",
            "  X, y = self._initialize(X, y)\n"
          ]
        },
        {
          "name": "stdout",
          "output_type": "stream",
          "text": [
            "147/147 [==============================] - 4s 12ms/step - loss: 0.0415\n",
            "Epoch 2/5\n",
            "147/147 [==============================] - 2s 12ms/step - loss: 0.0060\n",
            "Epoch 3/5\n",
            "147/147 [==============================] - 2s 12ms/step - loss: 0.0042\n",
            "Epoch 4/5\n",
            "147/147 [==============================] - 2s 12ms/step - loss: 0.0036\n",
            "Epoch 5/5\n",
            "147/147 [==============================] - 2s 12ms/step - loss: 0.0037\n",
            "Лучшие параметры: {'units': 50, 'optimizer': 'rmsprop', 'lstm_layers': [6], 'epochs': 5, 'batch_size': 1, 'activation': 'tanh'}\n",
            "Лучшее значение MSE: 1.2029312624285284\n"
          ]
        },
        {
          "name": "stderr",
          "output_type": "stream",
          "text": [
            "/usr/local/lib/python3.10/dist-packages/joblib/externals/loky/process_executor.py:752: UserWarning: A worker stopped while some jobs were given to the executor. This can be caused by a too short worker timeout or by a memory leak.\n",
            "  warnings.warn(\n"
          ]
        },
        {
          "name": "stdout",
          "output_type": "stream",
          "text": [
            "Epoch 1/5\n"
          ]
        },
        {
          "name": "stderr",
          "output_type": "stream",
          "text": [
            "/usr/local/lib/python3.10/dist-packages/scikeras/wrappers.py:915: UserWarning: ``build_fn`` will be renamed to ``model`` in a future release, at which point use of ``build_fn`` will raise an Error instead.\n",
            "  X, y = self._initialize(X, y)\n"
          ]
        },
        {
          "name": "stdout",
          "output_type": "stream",
          "text": [
            "147/147 [==============================] - 3s 12ms/step - loss: 0.0552\n",
            "Epoch 2/5\n",
            "147/147 [==============================] - 2s 12ms/step - loss: 0.0047\n",
            "Epoch 3/5\n",
            "147/147 [==============================] - 2s 11ms/step - loss: 0.0033\n",
            "Epoch 4/5\n",
            "147/147 [==============================] - 2s 11ms/step - loss: 0.0031\n",
            "Epoch 5/5\n",
            "147/147 [==============================] - 2s 16ms/step - loss: 0.0033\n",
            "Лучшие параметры: {'units': 50, 'optimizer': 'rmsprop', 'lstm_layers': [6], 'epochs': 5, 'batch_size': 1, 'activation': 'tanh'}\n",
            "Лучшее значение MSE: 0.6915027603187286\n"
          ]
        },
        {
          "name": "stderr",
          "output_type": "stream",
          "text": [
            "/usr/local/lib/python3.10/dist-packages/joblib/externals/loky/process_executor.py:752: UserWarning: A worker stopped while some jobs were given to the executor. This can be caused by a too short worker timeout or by a memory leak.\n",
            "  warnings.warn(\n"
          ]
        },
        {
          "name": "stdout",
          "output_type": "stream",
          "text": [
            "Epoch 1/5\n"
          ]
        },
        {
          "name": "stderr",
          "output_type": "stream",
          "text": [
            "/usr/local/lib/python3.10/dist-packages/scikeras/wrappers.py:915: UserWarning: ``build_fn`` will be renamed to ``model`` in a future release, at which point use of ``build_fn`` will raise an Error instead.\n",
            "  X, y = self._initialize(X, y)\n"
          ]
        },
        {
          "name": "stdout",
          "output_type": "stream",
          "text": [
            "147/147 [==============================] - 4s 13ms/step - loss: 0.0462\n",
            "Epoch 2/5\n",
            "147/147 [==============================] - 2s 12ms/step - loss: 0.0031\n",
            "Epoch 3/5\n",
            "147/147 [==============================] - 2s 12ms/step - loss: 0.0029\n",
            "Epoch 4/5\n",
            "147/147 [==============================] - 2s 12ms/step - loss: 0.0028\n",
            "Epoch 5/5\n",
            "147/147 [==============================] - 2s 12ms/step - loss: 0.0027\n",
            "Лучшие параметры: {'units': 50, 'optimizer': 'rmsprop', 'lstm_layers': [6], 'epochs': 5, 'batch_size': 1, 'activation': 'tanh'}\n",
            "Лучшее значение MSE: 0.22404163130879046\n"
          ]
        },
        {
          "name": "stderr",
          "output_type": "stream",
          "text": [
            "/usr/local/lib/python3.10/dist-packages/joblib/externals/loky/process_executor.py:752: UserWarning: A worker stopped while some jobs were given to the executor. This can be caused by a too short worker timeout or by a memory leak.\n",
            "  warnings.warn(\n"
          ]
        },
        {
          "name": "stdout",
          "output_type": "stream",
          "text": [
            "Epoch 1/5\n"
          ]
        },
        {
          "name": "stderr",
          "output_type": "stream",
          "text": [
            "/usr/local/lib/python3.10/dist-packages/scikeras/wrappers.py:915: UserWarning: ``build_fn`` will be renamed to ``model`` in a future release, at which point use of ``build_fn`` will raise an Error instead.\n",
            "  X, y = self._initialize(X, y)\n"
          ]
        },
        {
          "name": "stdout",
          "output_type": "stream",
          "text": [
            "147/147 [==============================] - 5s 19ms/step - loss: 0.0942\n",
            "Epoch 2/5\n",
            "147/147 [==============================] - 2s 15ms/step - loss: 0.0064\n",
            "Epoch 3/5\n",
            "147/147 [==============================] - 2s 12ms/step - loss: 0.0035\n",
            "Epoch 4/5\n",
            "147/147 [==============================] - 2s 12ms/step - loss: 0.0034\n",
            "Epoch 5/5\n",
            "147/147 [==============================] - 2s 12ms/step - loss: 0.0031\n",
            "Лучшие параметры: {'units': 50, 'optimizer': 'rmsprop', 'lstm_layers': [6], 'epochs': 5, 'batch_size': 1, 'activation': 'tanh'}\n",
            "Лучшее значение MSE: 1.5991785014733244\n"
          ]
        },
        {
          "name": "stderr",
          "output_type": "stream",
          "text": [
            "/usr/local/lib/python3.10/dist-packages/joblib/externals/loky/process_executor.py:752: UserWarning: A worker stopped while some jobs were given to the executor. This can be caused by a too short worker timeout or by a memory leak.\n",
            "  warnings.warn(\n"
          ]
        },
        {
          "name": "stdout",
          "output_type": "stream",
          "text": [
            "Epoch 1/5\n"
          ]
        },
        {
          "name": "stderr",
          "output_type": "stream",
          "text": [
            "/usr/local/lib/python3.10/dist-packages/scikeras/wrappers.py:915: UserWarning: ``build_fn`` will be renamed to ``model`` in a future release, at which point use of ``build_fn`` will raise an Error instead.\n",
            "  X, y = self._initialize(X, y)\n"
          ]
        },
        {
          "name": "stdout",
          "output_type": "stream",
          "text": [
            "147/147 [==============================] - 4s 12ms/step - loss: 0.1018\n",
            "Epoch 2/5\n",
            "147/147 [==============================] - 2s 12ms/step - loss: 0.0100\n",
            "Epoch 3/5\n",
            "147/147 [==============================] - 2s 12ms/step - loss: 0.0046\n",
            "Epoch 4/5\n",
            "147/147 [==============================] - 2s 12ms/step - loss: 0.0040\n",
            "Epoch 5/5\n",
            "147/147 [==============================] - 2s 13ms/step - loss: 0.0041\n",
            "Лучшие параметры: {'units': 50, 'optimizer': 'adam', 'lstm_layers': [6], 'epochs': 5, 'batch_size': 1, 'activation': 'tanh'}\n",
            "Лучшее значение MSE: 0.7140450398381919\n",
            "-------------------------------------------------------------------\n",
            "Best Model: CustomKerasRegressor(batch_size=1, epochs=5, lstm_layers=[6],\n",
            "                     optimizer='rmsprop')\n",
            "Best Parameters: {'units': 50, 'optimizer': 'rmsprop', 'lstm_layers': [6], 'epochs': 5, 'batch_size': 1, 'activation': 'tanh'}\n",
            "Best MSE: 0.22404163130879046\n",
            "-------------------------------------------------------------------\n"
          ]
        }
      ],
      "source": [
        "learning_pipeline('Toncoin', X_train_Toncoin, y_train_Toncoin, n_range=10)"
      ]
    },
    {
      "cell_type": "code",
      "execution_count": null,
      "metadata": {
        "id": "Cqhc15j-3ono"
      },
      "outputs": [],
      "source": [
        "loaded_model = CustomKerasRegressor()\n",
        "loaded_model.set_parameters(units=50, optimizer='rmsprop', lstm_layers=[6], epochs=5, batch_size=1, activation='tanh')\n",
        "model_Toncoin = loaded_model.load_model('/content/drive/MyDrive/model/model_Toncoin.h5')"
      ]
    },
    {
      "cell_type": "code",
      "execution_count": null,
      "metadata": {
        "colab": {
          "base_uri": "https://localhost:8080/",
          "height": 559
        },
        "id": "BiHvUfWb340H",
        "outputId": "e98d7008-1e66-4cef-c4bb-ff9b4ed2b32d"
      },
      "outputs": [
        {
          "name": "stdout",
          "output_type": "stream",
          "text": [
            "1/1 [==============================] - 1s 667ms/step\n"
          ]
        },
        {
          "data": {
            "text/html": [
              "<html>\n",
              "<head><meta charset=\"utf-8\" /></head>\n",
              "<body>\n",
              "    <div>            <script src=\"https://cdnjs.cloudflare.com/ajax/libs/mathjax/2.7.5/MathJax.js?config=TeX-AMS-MML_SVG\"></script><script type=\"text/javascript\">if (window.MathJax && window.MathJax.Hub && window.MathJax.Hub.Config) {window.MathJax.Hub.Config({SVG: {font: \"STIX-Web\"}});}</script>                <script type=\"text/javascript\">window.PlotlyConfig = {MathJaxConfig: 'local'};</script>\n",
              "        <script charset=\"utf-8\" src=\"https://cdn.plot.ly/plotly-2.24.1.min.js\"></script>                <div id=\"30ee1ada-5109-4d23-aee0-719e3c4707b4\" class=\"plotly-graph-div\" style=\"height:525px; width:100%;\"></div>            <script type=\"text/javascript\">                                    window.PLOTLYENV=window.PLOTLYENV || {};                                    if (document.getElementById(\"30ee1ada-5109-4d23-aee0-719e3c4707b4\")) {                    Plotly.newPlot(                        \"30ee1ada-5109-4d23-aee0-719e3c4707b4\",                        [{\"mode\":\"lines\",\"name\":\"Actual Value\",\"x\":[\"2023-09-28T00:00:00\",\"2023-09-29T00:00:00\",\"2023-09-30T00:00:00\",\"2023-10-01T00:00:00\",\"2023-10-02T00:00:00\",\"2023-10-03T00:00:00\",\"2023-10-04T00:00:00\",\"2023-10-05T00:00:00\",\"2023-10-06T00:00:00\",\"2023-10-07T00:00:00\",\"2023-10-08T00:00:00\",\"2023-10-09T00:00:00\",\"2023-10-10T00:00:00\",\"2023-10-11T00:00:00\",\"2023-10-12T00:00:00\",\"2023-10-13T00:00:00\",\"2023-10-14T00:00:00\",\"2023-10-15T00:00:00\",\"2023-10-16T00:00:00\",\"2023-10-17T00:00:00\",\"2023-10-18T00:00:00\",\"2023-10-19T00:00:00\",\"2023-10-20T00:00:00\",\"2023-10-21T00:00:00\",\"2023-10-22T00:00:00\",\"2023-10-23T00:00:00\",\"2023-10-24T00:00:00\",\"2023-10-25T00:00:00\",\"2023-10-26T00:00:00\",\"2023-10-27T00:00:00\"],\"y\":[2.24,2.17,2.11,2.13,2.03,2.04,1.96,2.07,2.15,2.06,2.05,1.98,2.01,1.99,1.94,1.94,1.92,1.93,1.96,2.1,2.05,2.07,2.09,2.12,2.19,2.17,2.13,2.14,2.12,2.06],\"type\":\"scatter\"},{\"mode\":\"lines\",\"name\":\"Predictions\",\"x\":[\"2023-09-28T00:00:00\",\"2023-09-29T00:00:00\",\"2023-09-30T00:00:00\",\"2023-10-01T00:00:00\",\"2023-10-02T00:00:00\",\"2023-10-03T00:00:00\",\"2023-10-04T00:00:00\",\"2023-10-05T00:00:00\",\"2023-10-06T00:00:00\",\"2023-10-07T00:00:00\",\"2023-10-08T00:00:00\",\"2023-10-09T00:00:00\",\"2023-10-10T00:00:00\",\"2023-10-11T00:00:00\",\"2023-10-12T00:00:00\",\"2023-10-13T00:00:00\",\"2023-10-14T00:00:00\",\"2023-10-15T00:00:00\",\"2023-10-16T00:00:00\",\"2023-10-17T00:00:00\",\"2023-10-18T00:00:00\",\"2023-10-19T00:00:00\",\"2023-10-20T00:00:00\",\"2023-10-21T00:00:00\",\"2023-10-22T00:00:00\",\"2023-10-23T00:00:00\",\"2023-10-24T00:00:00\",\"2023-10-25T00:00:00\",\"2023-10-26T00:00:00\",\"2023-10-27T00:00:00\"],\"y\":[2.148115634918213,2.1658902168273926,2.153017997741699,2.1268579959869385,2.1165285110473633,2.0754330158233643,2.0523080825805664,2.008664846420288,2.0162479877471924,2.0449416637420654,2.0333187580108643,2.0248265266418457,1.995891809463501,1.9873361587524414,1.9736478328704834,1.947863221168518,1.930987000465393,1.912360668182373,1.903133749961853,1.9065206050872803,1.9552116394042969,1.9691765308380127,1.98738694190979,2.0064034461975098,2.0292232036590576,2.0675787925720215,2.0857834815979004,2.086226463317871,2.091118335723877,2.087507963180542],\"type\":\"scatter\"}],                        {\"template\":{\"data\":{\"histogram2dcontour\":[{\"type\":\"histogram2dcontour\",\"colorbar\":{\"outlinewidth\":0,\"ticks\":\"\"},\"colorscale\":[[0.0,\"#0d0887\"],[0.1111111111111111,\"#46039f\"],[0.2222222222222222,\"#7201a8\"],[0.3333333333333333,\"#9c179e\"],[0.4444444444444444,\"#bd3786\"],[0.5555555555555556,\"#d8576b\"],[0.6666666666666666,\"#ed7953\"],[0.7777777777777778,\"#fb9f3a\"],[0.8888888888888888,\"#fdca26\"],[1.0,\"#f0f921\"]]}],\"choropleth\":[{\"type\":\"choropleth\",\"colorbar\":{\"outlinewidth\":0,\"ticks\":\"\"}}],\"histogram2d\":[{\"type\":\"histogram2d\",\"colorbar\":{\"outlinewidth\":0,\"ticks\":\"\"},\"colorscale\":[[0.0,\"#0d0887\"],[0.1111111111111111,\"#46039f\"],[0.2222222222222222,\"#7201a8\"],[0.3333333333333333,\"#9c179e\"],[0.4444444444444444,\"#bd3786\"],[0.5555555555555556,\"#d8576b\"],[0.6666666666666666,\"#ed7953\"],[0.7777777777777778,\"#fb9f3a\"],[0.8888888888888888,\"#fdca26\"],[1.0,\"#f0f921\"]]}],\"heatmap\":[{\"type\":\"heatmap\",\"colorbar\":{\"outlinewidth\":0,\"ticks\":\"\"},\"colorscale\":[[0.0,\"#0d0887\"],[0.1111111111111111,\"#46039f\"],[0.2222222222222222,\"#7201a8\"],[0.3333333333333333,\"#9c179e\"],[0.4444444444444444,\"#bd3786\"],[0.5555555555555556,\"#d8576b\"],[0.6666666666666666,\"#ed7953\"],[0.7777777777777778,\"#fb9f3a\"],[0.8888888888888888,\"#fdca26\"],[1.0,\"#f0f921\"]]}],\"heatmapgl\":[{\"type\":\"heatmapgl\",\"colorbar\":{\"outlinewidth\":0,\"ticks\":\"\"},\"colorscale\":[[0.0,\"#0d0887\"],[0.1111111111111111,\"#46039f\"],[0.2222222222222222,\"#7201a8\"],[0.3333333333333333,\"#9c179e\"],[0.4444444444444444,\"#bd3786\"],[0.5555555555555556,\"#d8576b\"],[0.6666666666666666,\"#ed7953\"],[0.7777777777777778,\"#fb9f3a\"],[0.8888888888888888,\"#fdca26\"],[1.0,\"#f0f921\"]]}],\"contourcarpet\":[{\"type\":\"contourcarpet\",\"colorbar\":{\"outlinewidth\":0,\"ticks\":\"\"}}],\"contour\":[{\"type\":\"contour\",\"colorbar\":{\"outlinewidth\":0,\"ticks\":\"\"},\"colorscale\":[[0.0,\"#0d0887\"],[0.1111111111111111,\"#46039f\"],[0.2222222222222222,\"#7201a8\"],[0.3333333333333333,\"#9c179e\"],[0.4444444444444444,\"#bd3786\"],[0.5555555555555556,\"#d8576b\"],[0.6666666666666666,\"#ed7953\"],[0.7777777777777778,\"#fb9f3a\"],[0.8888888888888888,\"#fdca26\"],[1.0,\"#f0f921\"]]}],\"surface\":[{\"type\":\"surface\",\"colorbar\":{\"outlinewidth\":0,\"ticks\":\"\"},\"colorscale\":[[0.0,\"#0d0887\"],[0.1111111111111111,\"#46039f\"],[0.2222222222222222,\"#7201a8\"],[0.3333333333333333,\"#9c179e\"],[0.4444444444444444,\"#bd3786\"],[0.5555555555555556,\"#d8576b\"],[0.6666666666666666,\"#ed7953\"],[0.7777777777777778,\"#fb9f3a\"],[0.8888888888888888,\"#fdca26\"],[1.0,\"#f0f921\"]]}],\"mesh3d\":[{\"type\":\"mesh3d\",\"colorbar\":{\"outlinewidth\":0,\"ticks\":\"\"}}],\"scatter\":[{\"fillpattern\":{\"fillmode\":\"overlay\",\"size\":10,\"solidity\":0.2},\"type\":\"scatter\"}],\"parcoords\":[{\"type\":\"parcoords\",\"line\":{\"colorbar\":{\"outlinewidth\":0,\"ticks\":\"\"}}}],\"scatterpolargl\":[{\"type\":\"scatterpolargl\",\"marker\":{\"colorbar\":{\"outlinewidth\":0,\"ticks\":\"\"}}}],\"bar\":[{\"error_x\":{\"color\":\"#2a3f5f\"},\"error_y\":{\"color\":\"#2a3f5f\"},\"marker\":{\"line\":{\"color\":\"#E5ECF6\",\"width\":0.5},\"pattern\":{\"fillmode\":\"overlay\",\"size\":10,\"solidity\":0.2}},\"type\":\"bar\"}],\"scattergeo\":[{\"type\":\"scattergeo\",\"marker\":{\"colorbar\":{\"outlinewidth\":0,\"ticks\":\"\"}}}],\"scatterpolar\":[{\"type\":\"scatterpolar\",\"marker\":{\"colorbar\":{\"outlinewidth\":0,\"ticks\":\"\"}}}],\"histogram\":[{\"marker\":{\"pattern\":{\"fillmode\":\"overlay\",\"size\":10,\"solidity\":0.2}},\"type\":\"histogram\"}],\"scattergl\":[{\"type\":\"scattergl\",\"marker\":{\"colorbar\":{\"outlinewidth\":0,\"ticks\":\"\"}}}],\"scatter3d\":[{\"type\":\"scatter3d\",\"line\":{\"colorbar\":{\"outlinewidth\":0,\"ticks\":\"\"}},\"marker\":{\"colorbar\":{\"outlinewidth\":0,\"ticks\":\"\"}}}],\"scattermapbox\":[{\"type\":\"scattermapbox\",\"marker\":{\"colorbar\":{\"outlinewidth\":0,\"ticks\":\"\"}}}],\"scatterternary\":[{\"type\":\"scatterternary\",\"marker\":{\"colorbar\":{\"outlinewidth\":0,\"ticks\":\"\"}}}],\"scattercarpet\":[{\"type\":\"scattercarpet\",\"marker\":{\"colorbar\":{\"outlinewidth\":0,\"ticks\":\"\"}}}],\"carpet\":[{\"aaxis\":{\"endlinecolor\":\"#2a3f5f\",\"gridcolor\":\"white\",\"linecolor\":\"white\",\"minorgridcolor\":\"white\",\"startlinecolor\":\"#2a3f5f\"},\"baxis\":{\"endlinecolor\":\"#2a3f5f\",\"gridcolor\":\"white\",\"linecolor\":\"white\",\"minorgridcolor\":\"white\",\"startlinecolor\":\"#2a3f5f\"},\"type\":\"carpet\"}],\"table\":[{\"cells\":{\"fill\":{\"color\":\"#EBF0F8\"},\"line\":{\"color\":\"white\"}},\"header\":{\"fill\":{\"color\":\"#C8D4E3\"},\"line\":{\"color\":\"white\"}},\"type\":\"table\"}],\"barpolar\":[{\"marker\":{\"line\":{\"color\":\"#E5ECF6\",\"width\":0.5},\"pattern\":{\"fillmode\":\"overlay\",\"size\":10,\"solidity\":0.2}},\"type\":\"barpolar\"}],\"pie\":[{\"automargin\":true,\"type\":\"pie\"}]},\"layout\":{\"autotypenumbers\":\"strict\",\"colorway\":[\"#636efa\",\"#EF553B\",\"#00cc96\",\"#ab63fa\",\"#FFA15A\",\"#19d3f3\",\"#FF6692\",\"#B6E880\",\"#FF97FF\",\"#FECB52\"],\"font\":{\"color\":\"#2a3f5f\"},\"hovermode\":\"closest\",\"hoverlabel\":{\"align\":\"left\"},\"paper_bgcolor\":\"white\",\"plot_bgcolor\":\"#E5ECF6\",\"polar\":{\"bgcolor\":\"#E5ECF6\",\"angularaxis\":{\"gridcolor\":\"white\",\"linecolor\":\"white\",\"ticks\":\"\"},\"radialaxis\":{\"gridcolor\":\"white\",\"linecolor\":\"white\",\"ticks\":\"\"}},\"ternary\":{\"bgcolor\":\"#E5ECF6\",\"aaxis\":{\"gridcolor\":\"white\",\"linecolor\":\"white\",\"ticks\":\"\"},\"baxis\":{\"gridcolor\":\"white\",\"linecolor\":\"white\",\"ticks\":\"\"},\"caxis\":{\"gridcolor\":\"white\",\"linecolor\":\"white\",\"ticks\":\"\"}},\"coloraxis\":{\"colorbar\":{\"outlinewidth\":0,\"ticks\":\"\"}},\"colorscale\":{\"sequential\":[[0.0,\"#0d0887\"],[0.1111111111111111,\"#46039f\"],[0.2222222222222222,\"#7201a8\"],[0.3333333333333333,\"#9c179e\"],[0.4444444444444444,\"#bd3786\"],[0.5555555555555556,\"#d8576b\"],[0.6666666666666666,\"#ed7953\"],[0.7777777777777778,\"#fb9f3a\"],[0.8888888888888888,\"#fdca26\"],[1.0,\"#f0f921\"]],\"sequentialminus\":[[0.0,\"#0d0887\"],[0.1111111111111111,\"#46039f\"],[0.2222222222222222,\"#7201a8\"],[0.3333333333333333,\"#9c179e\"],[0.4444444444444444,\"#bd3786\"],[0.5555555555555556,\"#d8576b\"],[0.6666666666666666,\"#ed7953\"],[0.7777777777777778,\"#fb9f3a\"],[0.8888888888888888,\"#fdca26\"],[1.0,\"#f0f921\"]],\"diverging\":[[0,\"#8e0152\"],[0.1,\"#c51b7d\"],[0.2,\"#de77ae\"],[0.3,\"#f1b6da\"],[0.4,\"#fde0ef\"],[0.5,\"#f7f7f7\"],[0.6,\"#e6f5d0\"],[0.7,\"#b8e186\"],[0.8,\"#7fbc41\"],[0.9,\"#4d9221\"],[1,\"#276419\"]]},\"xaxis\":{\"gridcolor\":\"white\",\"linecolor\":\"white\",\"ticks\":\"\",\"title\":{\"standoff\":15},\"zerolinecolor\":\"white\",\"automargin\":true,\"zerolinewidth\":2},\"yaxis\":{\"gridcolor\":\"white\",\"linecolor\":\"white\",\"ticks\":\"\",\"title\":{\"standoff\":15},\"zerolinecolor\":\"white\",\"automargin\":true,\"zerolinewidth\":2},\"scene\":{\"xaxis\":{\"backgroundcolor\":\"#E5ECF6\",\"gridcolor\":\"white\",\"linecolor\":\"white\",\"showbackground\":true,\"ticks\":\"\",\"zerolinecolor\":\"white\",\"gridwidth\":2},\"yaxis\":{\"backgroundcolor\":\"#E5ECF6\",\"gridcolor\":\"white\",\"linecolor\":\"white\",\"showbackground\":true,\"ticks\":\"\",\"zerolinecolor\":\"white\",\"gridwidth\":2},\"zaxis\":{\"backgroundcolor\":\"#E5ECF6\",\"gridcolor\":\"white\",\"linecolor\":\"white\",\"showbackground\":true,\"ticks\":\"\",\"zerolinecolor\":\"white\",\"gridwidth\":2}},\"shapedefaults\":{\"line\":{\"color\":\"#2a3f5f\"}},\"annotationdefaults\":{\"arrowcolor\":\"#2a3f5f\",\"arrowhead\":0,\"arrowwidth\":1},\"geo\":{\"bgcolor\":\"white\",\"landcolor\":\"#E5ECF6\",\"subunitcolor\":\"white\",\"showland\":true,\"showlakes\":true,\"lakecolor\":\"white\"},\"title\":{\"x\":0.05},\"mapbox\":{\"style\":\"light\"}}},\"title\":{\"text\":\"Stock Price Prediction\"},\"xaxis\":{\"title\":{\"text\":\"Date\"}},\"yaxis\":{\"title\":{\"text\":\"Stock Price USD ($)\"}}},                        {\"responsive\": true}                    ).then(function(){\n",
              "                            \n",
              "var gd = document.getElementById('30ee1ada-5109-4d23-aee0-719e3c4707b4');\n",
              "var x = new MutationObserver(function (mutations, observer) {{\n",
              "        var display = window.getComputedStyle(gd).display;\n",
              "        if (!display || display === 'none') {{\n",
              "            console.log([gd, 'removed!']);\n",
              "            Plotly.purge(gd);\n",
              "            observer.disconnect();\n",
              "        }}\n",
              "}});\n",
              "\n",
              "// Listen for the removal of the full notebook cells\n",
              "var notebookContainer = gd.closest('#notebook-container');\n",
              "if (notebookContainer) {{\n",
              "    x.observe(notebookContainer, {childList: true});\n",
              "}}\n",
              "\n",
              "// Listen for the clearing of the current output cell\n",
              "var outputEl = gd.closest('.output');\n",
              "if (outputEl) {{\n",
              "    x.observe(outputEl, {childList: true});\n",
              "}}\n",
              "\n",
              "                        })                };                            </script>        </div>\n",
              "</body>\n",
              "</html>"
            ]
          },
          "metadata": {},
          "output_type": "display_data"
        }
      ],
      "source": [
        "predictions_Toncoin = model_Toncoin.predict(X_test_Toncoin)\n",
        "predictions_Toncoin = scaler.inverse_transform(predictions_Toncoin)  # Дескалирование предсказаний обратно к исходным значениям\n",
        "\n",
        "df = Toncoin.sort_values('Date', ascending=True)\n",
        "df.set_index('Date', inplace=True)\n",
        "\n",
        "plot_interactive_time_series_predictions(df, predictions_Toncoin)"
      ]
    },
    {
      "cell_type": "code",
      "execution_count": null,
      "metadata": {
        "colab": {
          "base_uri": "https://localhost:8080/",
          "height": 993
        },
        "id": "rdY4C_Tw4ShK",
        "outputId": "53bca684-bd82-43c2-fd42-0b705f3c028a"
      },
      "outputs": [
        {
          "name": "stdout",
          "output_type": "stream",
          "text": [
            "1/1 [==============================] - 0s 25ms/step\n",
            "1/1 [==============================] - 0s 23ms/step\n",
            "1/1 [==============================] - 0s 24ms/step\n",
            "1/1 [==============================] - 0s 24ms/step\n",
            "1/1 [==============================] - 0s 32ms/step\n",
            "1/1 [==============================] - 0s 23ms/step\n",
            "1/1 [==============================] - 0s 27ms/step\n",
            "1/1 [==============================] - 0s 24ms/step\n",
            "1/1 [==============================] - 0s 27ms/step\n",
            "1/1 [==============================] - 0s 24ms/step\n",
            "1/1 [==============================] - 0s 24ms/step\n",
            "1/1 [==============================] - 0s 28ms/step\n",
            "1/1 [==============================] - 0s 27ms/step\n",
            "1/1 [==============================] - 0s 29ms/step\n",
            "1/1 [==============================] - 0s 23ms/step\n",
            "1/1 [==============================] - 0s 26ms/step\n",
            "1/1 [==============================] - 0s 27ms/step\n",
            "1/1 [==============================] - 0s 41ms/step\n",
            "1/1 [==============================] - 0s 39ms/step\n",
            "1/1 [==============================] - 0s 38ms/step\n",
            "1/1 [==============================] - 0s 49ms/step\n",
            "1/1 [==============================] - 0s 39ms/step\n",
            "1/1 [==============================] - 0s 38ms/step\n",
            "1/1 [==============================] - 0s 38ms/step\n",
            "1/1 [==============================] - 0s 36ms/step\n",
            "1/1 [==============================] - 0s 39ms/step\n",
            "1/1 [==============================] - 0s 35ms/step\n",
            "1/1 [==============================] - 0s 37ms/step\n",
            "1/1 [==============================] - 0s 40ms/step\n",
            "1/1 [==============================] - 0s 40ms/step\n"
          ]
        },
        {
          "data": {
            "image/png": "[encoded data removed]",
            "text/plain": [
              "<Figure size 640x480 with 1 Axes>"
            ]
          },
          "metadata": {},
          "output_type": "display_data"
        }
      ],
      "source": [
        "predict_and_plot(model_Toncoin, X_test_Toncoin[-1], scaler)"
      ]
    },
    {
      "cell_type": "markdown",
      "metadata": {},
      "source": [
        "test"
      ]
    }
  ],
  "metadata": {
    "colab": {
      "provenance": []
    },
    "kernelspec": {
      "display_name": "Python 3",
      "language": "python",
      "name": "python3"
    },
    "language_info": {
      "codemirror_mode": {
        "name": "ipython",
        "version": 3
      },
      "file_extension": ".py",
      "mimetype": "text/x-python",
      "name": "python",
      "nbconvert_exporter": "python",
      "pygments_lexer": "ipython3",
      "version": "3.11.4"
    },
    "orig_nbformat": 4
  },
  "nbformat": 4,
  "nbformat_minor": 0
}
